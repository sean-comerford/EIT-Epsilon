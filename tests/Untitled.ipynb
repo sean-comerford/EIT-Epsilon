{
 "cells": [
  {
   "cell_type": "code",
   "execution_count": 1,
   "id": "92aa7ef9",
   "metadata": {},
   "outputs": [
    {
     "ename": "ModuleNotFoundError",
     "evalue": "No module named 'kedro'",
     "output_type": "error",
     "traceback": [
      "\u001b[1;31m---------------------------------------------------------------------------\u001b[0m",
      "\u001b[1;31mModuleNotFoundError\u001b[0m                       Traceback (most recent call last)",
      "Cell \u001b[1;32mIn[1], line 13\u001b[0m\n\u001b[0;32m     10\u001b[0m \u001b[38;5;28;01mfrom\u001b[39;00m \u001b[38;5;21;01mpathlib\u001b[39;00m \u001b[38;5;28;01mimport\u001b[39;00m Path\n\u001b[0;32m     12\u001b[0m \u001b[38;5;28;01mimport\u001b[39;00m \u001b[38;5;21;01mpytest\u001b[39;00m\n\u001b[1;32m---> 13\u001b[0m \u001b[38;5;28;01mfrom\u001b[39;00m \u001b[38;5;21;01mkedro\u001b[39;00m\u001b[38;5;21;01m.\u001b[39;00m\u001b[38;5;21;01mconfig\u001b[39;00m \u001b[38;5;28;01mimport\u001b[39;00m OmegaConfigLoader\n\u001b[0;32m     14\u001b[0m \u001b[38;5;28;01mfrom\u001b[39;00m \u001b[38;5;21;01mkedro\u001b[39;00m\u001b[38;5;21;01m.\u001b[39;00m\u001b[38;5;21;01mframework\u001b[39;00m\u001b[38;5;21;01m.\u001b[39;00m\u001b[38;5;21;01mcontext\u001b[39;00m \u001b[38;5;28;01mimport\u001b[39;00m KedroContext\n\u001b[0;32m     15\u001b[0m \u001b[38;5;28;01mfrom\u001b[39;00m \u001b[38;5;21;01mkedro\u001b[39;00m\u001b[38;5;21;01m.\u001b[39;00m\u001b[38;5;21;01mframework\u001b[39;00m\u001b[38;5;21;01m.\u001b[39;00m\u001b[38;5;21;01mhooks\u001b[39;00m \u001b[38;5;28;01mimport\u001b[39;00m _create_hook_manager\n",
      "\u001b[1;31mModuleNotFoundError\u001b[0m: No module named 'kedro'"
     ]
    }
   ],
   "source": [
    "\"\"\"\n",
    "This module contains an example test.\n",
    "\n",
    "Tests should be placed in ``src/tests``, in modules that mirror your\n",
    "project's structure, and in files named test_*.py. They are simply functions\n",
    "named ``test_*`` which test a unit of logic.\n",
    "\n",
    "To run the tests, run ``kedro test`` from the project root directory.\n",
    "\"\"\"\n",
    "from pathlib import Path\n",
    "\n",
    "import pytest\n",
    "from kedro.config import OmegaConfigLoader\n",
    "from kedro.framework.context import KedroContext\n",
    "from kedro.framework.hooks import _create_hook_manager\n",
    "\n",
    "\n",
    "@pytest.fixture\n",
    "def config_loader():\n",
    "    return OmegaConfigLoader(conf_source=str(Path.cwd()))\n",
    "\n",
    "\n",
    "@pytest.fixture\n",
    "def project_context(config_loader):\n",
    "    return KedroContext(\n",
    "        package_name=\"eit_epsilon\",\n",
    "        project_path=Path.cwd(),\n",
    "        config_loader=config_loader,\n",
    "        hook_manager=_create_hook_manager(),\n",
    "    )\n",
    "\n",
    "\n",
    "# The tests below are here for the demonstration purpose\n",
    "# and should be replaced with the ones testing the project\n",
    "# functionality\n",
    "class TestProjectContext:\n",
    "    def test_project_path(self, project_context):\n",
    "        assert project_context.project_path == Path.cwd()\n"
   ]
  },
  {
   "cell_type": "code",
   "execution_count": null,
   "id": "9fd468a7",
   "metadata": {},
   "outputs": [],
   "source": []
  }
 ],
 "metadata": {
  "kernelspec": {
   "display_name": "Python 3 (ipykernel)",
   "language": "python",
   "name": "python3"
  },
  "language_info": {
   "codemirror_mode": {
    "name": "ipython",
    "version": 3
   },
   "file_extension": ".py",
   "mimetype": "text/x-python",
   "name": "python",
   "nbconvert_exporter": "python",
   "pygments_lexer": "ipython3",
   "version": "3.11.4"
  }
 },
 "nbformat": 4,
 "nbformat_minor": 5
}
