{
 "cells": [
  {
   "cell_type": "code",
   "execution_count": 1,
   "id": "18349524-7a7f-42aa-9d41-4f13ee97cc5b",
   "metadata": {},
   "outputs": [
    {
     "data": {
      "text/html": [
       "<pre style=\"white-space:pre;overflow-x:auto;line-height:normal;font-family:Menlo,'DejaVu Sans Mono',consolas,'Courier New',monospace\"><span style=\"color: #7fbfbf; text-decoration-color: #7fbfbf\">[07/15/24 13:54:38] </span><span style=\"color: #000080; text-decoration-color: #000080\">INFO    </span> Loading data from <span style=\"color: #ff8700; text-decoration-color: #ff8700\">croom_open_orders</span> <span style=\"font-weight: bold\">(</span>ExcelDataset<span style=\"font-weight: bold\">)</span><span style=\"color: #808000; text-decoration-color: #808000\">...</span>              <a href=\"file://C:\\Users\\JeanLucOudshoorn\\miniconda3\\envs\\EIT-Epsilon\\Lib\\site-packages\\kedro\\io\\data_catalog.py\" target=\"_blank\"><span style=\"color: #7f7f7f; text-decoration-color: #7f7f7f\">data_catalog.py</span></a><span style=\"color: #7f7f7f; text-decoration-color: #7f7f7f\">:</span><a href=\"file://C:\\Users\\JeanLucOudshoorn\\miniconda3\\envs\\EIT-Epsilon\\Lib\\site-packages\\kedro\\io\\data_catalog.py#483\" target=\"_blank\"><span style=\"color: #7f7f7f; text-decoration-color: #7f7f7f\">483</span></a>\n",
       "</pre>\n"
      ],
      "text/plain": [
       "\u001b[2;36m[07/15/24 13:54:38]\u001b[0m\u001b[2;36m \u001b[0m\u001b[34mINFO    \u001b[0m Loading data from \u001b[38;5;208mcroom_open_orders\u001b[0m \u001b[1m(\u001b[0mExcelDataset\u001b[1m)\u001b[0m\u001b[33m...\u001b[0m              \u001b]8;id=380388;file://C:\\Users\\JeanLucOudshoorn\\miniconda3\\envs\\EIT-Epsilon\\Lib\\site-packages\\kedro\\io\\data_catalog.py\u001b\\\u001b[2mdata_catalog.py\u001b[0m\u001b]8;;\u001b\\\u001b[2m:\u001b[0m\u001b]8;id=886328;file://C:\\Users\\JeanLucOudshoorn\\miniconda3\\envs\\EIT-Epsilon\\Lib\\site-packages\\kedro\\io\\data_catalog.py#483\u001b\\\u001b[2m483\u001b[0m\u001b]8;;\u001b\\\n"
      ]
     },
     "metadata": {},
     "output_type": "display_data"
    }
   ],
   "source": [
    "df_orders = catalog.load('croom_open_orders')"
   ]
  },
  {
   "cell_type": "code",
   "execution_count": 2,
   "id": "ff0ed90d-3cb3-43d7-89cb-e01b173aae1b",
   "metadata": {},
   "outputs": [
    {
     "data": {
      "text/html": [
       "<pre style=\"white-space:pre;overflow-x:auto;line-height:normal;font-family:Menlo,'DejaVu Sans Mono',consolas,'Courier New',monospace\"></pre>\n"
      ],
      "text/plain": []
     },
     "metadata": {},
     "output_type": "display_data"
    },
    {
     "data": {
      "text/plain": [
       "\n",
       "\u001b[1;35mIndex\u001b[0m\u001b[1m(\u001b[0m\u001b[1m[\u001b[0m\u001b[32m'Job ID'\u001b[0m, \u001b[32m'Created Date'\u001b[0m, \u001b[32m'Created By'\u001b[0m, \u001b[32m'Prod Due Date'\u001b[0m, \u001b[32m'Customer ID'\u001b[0m,\n",
       "       \u001b[32m'Customer Name'\u001b[0m, \u001b[32m'Leadtime Target'\u001b[0m, \u001b[32m'To Sort'\u001b[0m, \u001b[32m'Due Date '\u001b[0m,\n",
       "       \u001b[32m'Overdue Y/N'\u001b[0m, \u001b[32m'Overdue Age'\u001b[0m, \u001b[32m'Week Num'\u001b[0m, \u001b[32m'Customer PO'\u001b[0m, \u001b[32m'Part ID'\u001b[0m,\n",
       "       \u001b[32m'Revision'\u001b[0m, \u001b[32m'UoM'\u001b[0m, \u001b[32m'Part Description'\u001b[0m, \u001b[32m'Order Qty'\u001b[0m, \u001b[32m'Qty Shipped'\u001b[0m,\n",
       "       \u001b[32m'Inventory Qty'\u001b[0m, \u001b[32m'Scrap Qty'\u001b[0m, \u001b[32m'Production Qty'\u001b[0m, \u001b[32m'Planning Complete?'\u001b[0m,\n",
       "       \u001b[32m'Schedule Complete?'\u001b[0m, \u001b[32m'Released to Floor?'\u001b[0m, \u001b[32m'On Hold?'\u001b[0m, \u001b[32m'Days_Open'\u001b[0m\u001b[1m]\u001b[0m,\n",
       "      \u001b[33mdtype\u001b[0m=\u001b[32m'object'\u001b[0m\u001b[1m)\u001b[0m"
      ]
     },
     "execution_count": 2,
     "metadata": {},
     "output_type": "execute_result"
    }
   ],
   "source": [
    "df_orders.columns"
   ]
  },
  {
   "cell_type": "code",
   "execution_count": 3,
   "id": "f417a191-c70a-4c4e-b478-4515825bcd47",
   "metadata": {},
   "outputs": [
    {
     "data": {
      "text/html": [
       "<pre style=\"white-space:pre;overflow-x:auto;line-height:normal;font-family:Menlo,'DejaVu Sans Mono',consolas,'Courier New',monospace\"></pre>\n"
      ],
      "text/plain": []
     },
     "metadata": {},
     "output_type": "display_data"
    },
    {
     "data": {
      "text/plain": [
       "\n",
       "\u001b[1;36m0\u001b[0m       OP \u001b[1;36m1\u001b[0m - ATT CR FEM CLS Sz \u001b[1;36m8\u001b[0m - LEFT\n",
       "\u001b[1;36m1\u001b[0m       OP \u001b[1;36m1\u001b[0m - ATT CR FEM CLS Sz \u001b[1;36m8\u001b[0m - LEFT\n",
       "\u001b[1;36m2\u001b[0m       OP \u001b[1;36m1\u001b[0m - ATT CR FEM CLS Sz \u001b[1;36m8\u001b[0m - LEFT\n",
       "\u001b[1;36m3\u001b[0m       OP \u001b[1;36m1\u001b[0m - ATT CR FEM CLS Sz \u001b[1;36m8\u001b[0m - LEFT\n",
       "\u001b[1;36m4\u001b[0m       OP \u001b[1;36m1\u001b[0m - ATT CR FEM CLS Sz \u001b[1;36m8\u001b[0m - LEFT\n",
       "                      \u001b[33m...\u001b[0m                \n",
       "\u001b[1;36m1349\u001b[0m    \u001b[1;36m64953101\u001b[0m GMRS PROXIMAL TIBIAL SML\n",
       "\u001b[1;36m1350\u001b[0m     \u001b[1;36m64811120\u001b[0m MRH KNEE COMP FEM M LFT\n",
       "\u001b[1;36m1351\u001b[0m                          AS 9MM STEM\n",
       "\u001b[1;36m1352\u001b[0m                          AS 9MM STEM\n",
       "\u001b[1;36m1353\u001b[0m                      MAINTENANCE POs\n",
       "Name: Part Description, Length: \u001b[1;36m1354\u001b[0m, dtype: object"
      ]
     },
     "execution_count": 3,
     "metadata": {},
     "output_type": "execute_result"
    }
   ],
   "source": [
    "df_orders['Part Description']"
   ]
  },
  {
   "cell_type": "code",
   "execution_count": 4,
   "id": "a345b9a5-5e39-4406-aea6-c64ff88399e3",
   "metadata": {},
   "outputs": [
    {
     "data": {
      "text/html": [
       "<pre style=\"white-space:pre;overflow-x:auto;line-height:normal;font-family:Menlo,'DejaVu Sans Mono',consolas,'Courier New',monospace\"><span style=\"color: #7fbfbf; text-decoration-color: #7fbfbf\">[07/15/24 13:54:40] </span><span style=\"color: #000080; text-decoration-color: #000080\">INFO    </span> Loading data from <span style=\"color: #ff8700; text-decoration-color: #ff8700\">monza_cycle_times_op2</span> <span style=\"font-weight: bold\">(</span>ExcelDataset<span style=\"font-weight: bold\">)</span><span style=\"color: #808000; text-decoration-color: #808000\">...</span>          <a href=\"file://C:\\Users\\JeanLucOudshoorn\\miniconda3\\envs\\EIT-Epsilon\\Lib\\site-packages\\kedro\\io\\data_catalog.py\" target=\"_blank\"><span style=\"color: #7f7f7f; text-decoration-color: #7f7f7f\">data_catalog.py</span></a><span style=\"color: #7f7f7f; text-decoration-color: #7f7f7f\">:</span><a href=\"file://C:\\Users\\JeanLucOudshoorn\\miniconda3\\envs\\EIT-Epsilon\\Lib\\site-packages\\kedro\\io\\data_catalog.py#483\" target=\"_blank\"><span style=\"color: #7f7f7f; text-decoration-color: #7f7f7f\">483</span></a>\n",
       "</pre>\n"
      ],
      "text/plain": [
       "\u001b[2;36m[07/15/24 13:54:40]\u001b[0m\u001b[2;36m \u001b[0m\u001b[34mINFO    \u001b[0m Loading data from \u001b[38;5;208mmonza_cycle_times_op2\u001b[0m \u001b[1m(\u001b[0mExcelDataset\u001b[1m)\u001b[0m\u001b[33m...\u001b[0m          \u001b]8;id=515677;file://C:\\Users\\JeanLucOudshoorn\\miniconda3\\envs\\EIT-Epsilon\\Lib\\site-packages\\kedro\\io\\data_catalog.py\u001b\\\u001b[2mdata_catalog.py\u001b[0m\u001b]8;;\u001b\\\u001b[2m:\u001b[0m\u001b]8;id=544217;file://C:\\Users\\JeanLucOudshoorn\\miniconda3\\envs\\EIT-Epsilon\\Lib\\site-packages\\kedro\\io\\data_catalog.py#483\u001b\\\u001b[2m483\u001b[0m\u001b]8;;\u001b\\\n"
      ]
     },
     "metadata": {},
     "output_type": "display_data"
    }
   ],
   "source": [
    "monza_cycle_times_op2 = catalog.load('monza_cycle_times_op2')"
   ]
  },
  {
   "cell_type": "code",
   "execution_count": 5,
   "id": "ae21f8d4-3b5f-40be-91b5-026d524a8588",
   "metadata": {},
   "outputs": [
    {
     "data": {
      "text/html": [
       "<pre style=\"white-space:pre;overflow-x:auto;line-height:normal;font-family:Menlo,'DejaVu Sans Mono',consolas,'Courier New',monospace\"></pre>\n"
      ],
      "text/plain": []
     },
     "metadata": {},
     "output_type": "display_data"
    },
    {
     "data": {
      "text/html": [
       "<div>\n",
       "<style scoped>\n",
       "    .dataframe tbody tr th:only-of-type {\n",
       "        vertical-align: middle;\n",
       "    }\n",
       "\n",
       "    .dataframe tbody tr th {\n",
       "        vertical-align: top;\n",
       "    }\n",
       "\n",
       "    .dataframe thead th {\n",
       "        text-align: right;\n",
       "    }\n",
       "</style>\n",
       "<table border=\"1\" class=\"dataframe\">\n",
       "  <thead>\n",
       "    <tr style=\"text-align: right;\">\n",
       "      <th></th>\n",
       "      <th>Unnamed: 0</th>\n",
       "      <th>Unnamed: 1</th>\n",
       "      <th>Unnamed: 2</th>\n",
       "      <th>Unnamed: 3</th>\n",
       "      <th>12</th>\n",
       "      <th>Unnamed: 5</th>\n",
       "      <th>24</th>\n",
       "    </tr>\n",
       "  </thead>\n",
       "  <tbody>\n",
       "    <tr>\n",
       "      <th>0</th>\n",
       "      <td>Monza  Op2 Cycle times</td>\n",
       "      <td>NaN</td>\n",
       "      <td>NaN</td>\n",
       "      <td>PS &amp; CR  op2 -</td>\n",
       "      <td>NaN</td>\n",
       "      <td>NaN</td>\n",
       "      <td>NaN</td>\n",
       "    </tr>\n",
       "    <tr>\n",
       "      <th>1</th>\n",
       "      <td>No of parts / cycle</td>\n",
       "      <td>operation</td>\n",
       "      <td>Operation type</td>\n",
       "      <td>Cycle in Mins</td>\n",
       "      <td>Cycle Per Batch</td>\n",
       "      <td>Actual</td>\n",
       "      <td>Cycle Per Batch</td>\n",
       "    </tr>\n",
       "    <tr>\n",
       "      <th>2</th>\n",
       "      <td>24</td>\n",
       "      <td>10</td>\n",
       "      <td>Drag Ceramic</td>\n",
       "      <td>30</td>\n",
       "      <td>360</td>\n",
       "      <td>3</td>\n",
       "      <td>72</td>\n",
       "    </tr>\n",
       "    <tr>\n",
       "      <th>3</th>\n",
       "      <td>24</td>\n",
       "      <td>20</td>\n",
       "      <td>Mecwash</td>\n",
       "      <td>66</td>\n",
       "      <td>792</td>\n",
       "      <td>1.25</td>\n",
       "      <td>30</td>\n",
       "    </tr>\n",
       "    <tr>\n",
       "      <th>4</th>\n",
       "      <td>24</td>\n",
       "      <td>30</td>\n",
       "      <td>Drag Plastic</td>\n",
       "      <td>0</td>\n",
       "      <td>0</td>\n",
       "      <td>3</td>\n",
       "      <td>72</td>\n",
       "    </tr>\n",
       "    <tr>\n",
       "      <th>5</th>\n",
       "      <td>24</td>\n",
       "      <td>40</td>\n",
       "      <td>Mecwash</td>\n",
       "      <td>0</td>\n",
       "      <td>0</td>\n",
       "      <td>1.25</td>\n",
       "      <td>30</td>\n",
       "    </tr>\n",
       "    <tr>\n",
       "      <th>6</th>\n",
       "      <td>1</td>\n",
       "      <td>50</td>\n",
       "      <td>Post Plastic Inspect</td>\n",
       "      <td>0</td>\n",
       "      <td>0</td>\n",
       "      <td>3</td>\n",
       "      <td>36</td>\n",
       "    </tr>\n",
       "    <tr>\n",
       "      <th>7</th>\n",
       "      <td>1</td>\n",
       "      <td>60</td>\n",
       "      <td>Optinal touch up</td>\n",
       "      <td>0</td>\n",
       "      <td>0</td>\n",
       "      <td>2</td>\n",
       "      <td>24</td>\n",
       "    </tr>\n",
       "    <tr>\n",
       "      <th>8</th>\n",
       "      <td>NaN</td>\n",
       "      <td>70</td>\n",
       "      <td>FPI</td>\n",
       "      <td>94.8</td>\n",
       "      <td>1137.6</td>\n",
       "      <td>5</td>\n",
       "      <td>60</td>\n",
       "    </tr>\n",
       "    <tr>\n",
       "      <th>9</th>\n",
       "      <td>24</td>\n",
       "      <td>80</td>\n",
       "      <td>Drag Nutshell</td>\n",
       "      <td>0</td>\n",
       "      <td>0</td>\n",
       "      <td>3</td>\n",
       "      <td>72</td>\n",
       "    </tr>\n",
       "    <tr>\n",
       "      <th>10</th>\n",
       "      <td>1</td>\n",
       "      <td>90</td>\n",
       "      <td>Polish touch up and inspect</td>\n",
       "      <td>0</td>\n",
       "      <td>0</td>\n",
       "      <td>3</td>\n",
       "      <td>36</td>\n",
       "    </tr>\n",
       "    <tr>\n",
       "      <th>11</th>\n",
       "      <td>1</td>\n",
       "      <td>100</td>\n",
       "      <td>RA testing</td>\n",
       "      <td>0</td>\n",
       "      <td>0</td>\n",
       "      <td>3</td>\n",
       "      <td>36</td>\n",
       "    </tr>\n",
       "    <tr>\n",
       "      <th>12</th>\n",
       "      <td>24</td>\n",
       "      <td>110</td>\n",
       "      <td>Mecwash</td>\n",
       "      <td>0</td>\n",
       "      <td>0</td>\n",
       "      <td>0.625</td>\n",
       "      <td>15</td>\n",
       "    </tr>\n",
       "    <tr>\n",
       "      <th>13</th>\n",
       "      <td>1</td>\n",
       "      <td>120</td>\n",
       "      <td>Final inspection</td>\n",
       "      <td>0</td>\n",
       "      <td>0</td>\n",
       "      <td>5</td>\n",
       "      <td>60</td>\n",
       "    </tr>\n",
       "    <tr>\n",
       "      <th>14</th>\n",
       "      <td>NaN</td>\n",
       "      <td>NaN</td>\n",
       "      <td>Mins Total</td>\n",
       "      <td>190.8</td>\n",
       "      <td>2289.6</td>\n",
       "      <td>NaN</td>\n",
       "      <td>543</td>\n",
       "    </tr>\n",
       "    <tr>\n",
       "      <th>15</th>\n",
       "      <td>NaN</td>\n",
       "      <td>NaN</td>\n",
       "      <td>Hrs Total</td>\n",
       "      <td>3.18</td>\n",
       "      <td>38.16</td>\n",
       "      <td>NaN</td>\n",
       "      <td>9.05</td>\n",
       "    </tr>\n",
       "  </tbody>\n",
       "</table>\n",
       "</div>"
      ],
      "text/plain": [
       "\n",
       "                Unnamed: \u001b[1;36m0\u001b[0m Unnamed: \u001b[1;36m1\u001b[0m                   Unnamed: \u001b[1;36m2\u001b[0m  \\\n",
       "\u001b[1;36m0\u001b[0m   Monza  Op2 Cycle times        NaN                          NaN   \n",
       "\u001b[1;36m1\u001b[0m      No of parts \u001b[35m/\u001b[0m cycle  operation               Operation type   \n",
       "\u001b[1;36m2\u001b[0m                       \u001b[1;36m24\u001b[0m         \u001b[1;36m10\u001b[0m                 Drag Ceramic   \n",
       "\u001b[1;36m3\u001b[0m                       \u001b[1;36m24\u001b[0m         \u001b[1;36m20\u001b[0m                      Mecwash   \n",
       "\u001b[1;36m4\u001b[0m                       \u001b[1;36m24\u001b[0m         \u001b[1;36m30\u001b[0m                 Drag Plastic   \n",
       "\u001b[1;36m5\u001b[0m                       \u001b[1;36m24\u001b[0m         \u001b[1;36m40\u001b[0m                      Mecwash   \n",
       "\u001b[1;36m6\u001b[0m                        \u001b[1;36m1\u001b[0m         \u001b[1;36m50\u001b[0m         Post Plastic Inspect   \n",
       "\u001b[1;36m7\u001b[0m                        \u001b[1;36m1\u001b[0m         \u001b[1;36m60\u001b[0m            Optinal touch up    \n",
       "\u001b[1;36m8\u001b[0m                      NaN         \u001b[1;36m70\u001b[0m                          FPI   \n",
       "\u001b[1;36m9\u001b[0m                       \u001b[1;36m24\u001b[0m         \u001b[1;36m80\u001b[0m                Drag Nutshell   \n",
       "\u001b[1;36m10\u001b[0m                       \u001b[1;36m1\u001b[0m         \u001b[1;36m90\u001b[0m  Polish touch up and inspect   \n",
       "\u001b[1;36m11\u001b[0m                       \u001b[1;36m1\u001b[0m        \u001b[1;36m100\u001b[0m                  RA testing    \n",
       "\u001b[1;36m12\u001b[0m                      \u001b[1;36m24\u001b[0m        \u001b[1;36m110\u001b[0m                      Mecwash   \n",
       "\u001b[1;36m13\u001b[0m                       \u001b[1;36m1\u001b[0m        \u001b[1;36m120\u001b[0m             Final inspection   \n",
       "\u001b[1;36m14\u001b[0m                     NaN        NaN                  Mins Total    \n",
       "\u001b[1;36m15\u001b[0m                     NaN        NaN                   Hrs Total    \n",
       "\n",
       "          Unnamed: \u001b[1;36m3\u001b[0m               \u001b[1;36m12\u001b[0m Unnamed: \u001b[1;36m5\u001b[0m               \u001b[1;36m24\u001b[0m  \n",
       "\u001b[1;36m0\u001b[0m   PS & CR  op2 -                NaN        NaN              NaN  \n",
       "\u001b[1;36m1\u001b[0m      Cycle in Mins  Cycle Per Batch    Actual   Cycle Per Batch  \n",
       "\u001b[1;36m2\u001b[0m                 \u001b[1;36m30\u001b[0m              \u001b[1;36m360\u001b[0m          \u001b[1;36m3\u001b[0m               \u001b[1;36m72\u001b[0m  \n",
       "\u001b[1;36m3\u001b[0m                 \u001b[1;36m66\u001b[0m              \u001b[1;36m792\u001b[0m       \u001b[1;36m1.25\u001b[0m               \u001b[1;36m30\u001b[0m  \n",
       "\u001b[1;36m4\u001b[0m                  \u001b[1;36m0\u001b[0m                \u001b[1;36m0\u001b[0m          \u001b[1;36m3\u001b[0m               \u001b[1;36m72\u001b[0m  \n",
       "\u001b[1;36m5\u001b[0m                  \u001b[1;36m0\u001b[0m                \u001b[1;36m0\u001b[0m       \u001b[1;36m1.25\u001b[0m               \u001b[1;36m30\u001b[0m  \n",
       "\u001b[1;36m6\u001b[0m                  \u001b[1;36m0\u001b[0m                \u001b[1;36m0\u001b[0m          \u001b[1;36m3\u001b[0m               \u001b[1;36m36\u001b[0m  \n",
       "\u001b[1;36m7\u001b[0m                  \u001b[1;36m0\u001b[0m                \u001b[1;36m0\u001b[0m          \u001b[1;36m2\u001b[0m               \u001b[1;36m24\u001b[0m  \n",
       "\u001b[1;36m8\u001b[0m               \u001b[1;36m94.8\u001b[0m           \u001b[1;36m1137.6\u001b[0m          \u001b[1;36m5\u001b[0m               \u001b[1;36m60\u001b[0m  \n",
       "\u001b[1;36m9\u001b[0m                  \u001b[1;36m0\u001b[0m                \u001b[1;36m0\u001b[0m          \u001b[1;36m3\u001b[0m               \u001b[1;36m72\u001b[0m  \n",
       "\u001b[1;36m10\u001b[0m                 \u001b[1;36m0\u001b[0m                \u001b[1;36m0\u001b[0m          \u001b[1;36m3\u001b[0m               \u001b[1;36m36\u001b[0m  \n",
       "\u001b[1;36m11\u001b[0m                 \u001b[1;36m0\u001b[0m                \u001b[1;36m0\u001b[0m          \u001b[1;36m3\u001b[0m               \u001b[1;36m36\u001b[0m  \n",
       "\u001b[1;36m12\u001b[0m                 \u001b[1;36m0\u001b[0m                \u001b[1;36m0\u001b[0m      \u001b[1;36m0.625\u001b[0m               \u001b[1;36m15\u001b[0m  \n",
       "\u001b[1;36m13\u001b[0m                 \u001b[1;36m0\u001b[0m                \u001b[1;36m0\u001b[0m          \u001b[1;36m5\u001b[0m               \u001b[1;36m60\u001b[0m  \n",
       "\u001b[1;36m14\u001b[0m             \u001b[1;36m190.8\u001b[0m           \u001b[1;36m2289.6\u001b[0m        NaN              \u001b[1;36m543\u001b[0m  \n",
       "\u001b[1;36m15\u001b[0m              \u001b[1;36m3.18\u001b[0m            \u001b[1;36m38.16\u001b[0m        NaN             \u001b[1;36m9.05\u001b[0m  "
      ]
     },
     "execution_count": 5,
     "metadata": {},
     "output_type": "execute_result"
    }
   ],
   "source": [
    "monza_cycle_times_op2"
   ]
  },
  {
   "cell_type": "code",
   "execution_count": 6,
   "id": "2392f9c1-a7f6-478c-9ab4-27512e430b02",
   "metadata": {},
   "outputs": [],
   "source": [
    "monza_cycle_times_op2.columns = monza_cycle_times_op2.iloc[1]"
   ]
  },
  {
   "cell_type": "code",
   "execution_count": 7,
   "id": "0fe788b1-788c-4836-961f-eabef54ba17f",
   "metadata": {},
   "outputs": [],
   "source": [
    "monza_cycle_times_op2 = monza_cycle_times_op2.iloc[2:, 1:]"
   ]
  },
  {
   "cell_type": "code",
   "execution_count": 8,
   "id": "55d6ddbc-5204-4cc5-8765-0da78cbc6468",
   "metadata": {},
   "outputs": [],
   "source": [
    "monza_cycle_times_op2 = monza_cycle_times_op2[~monza_cycle_times_op2['Operation type'].isin(['FPI', 'RA testing '])]"
   ]
  },
  {
   "cell_type": "code",
   "execution_count": 10,
   "id": "a64bce78-53bd-4d01-addc-7d0afc39af63",
   "metadata": {},
   "outputs": [],
   "source": [
    "monza_cycle_times_op2.index = range(10, 10 + len(monza_cycle_times_op2))"
   ]
  },
  {
   "cell_type": "code",
   "execution_count": 16,
   "id": "972ad396-6972-4568-a965-22d7cbf3c5e4",
   "metadata": {},
   "outputs": [
    {
     "data": {
      "text/html": [
       "<pre style=\"white-space:pre;overflow-x:auto;line-height:normal;font-family:Menlo,'DejaVu Sans Mono',consolas,'Courier New',monospace\"></pre>\n"
      ],
      "text/plain": []
     },
     "metadata": {},
     "output_type": "display_data"
    },
    {
     "data": {
      "text/html": [
       "<div>\n",
       "<style scoped>\n",
       "    .dataframe tbody tr th:only-of-type {\n",
       "        vertical-align: middle;\n",
       "    }\n",
       "\n",
       "    .dataframe tbody tr th {\n",
       "        vertical-align: top;\n",
       "    }\n",
       "\n",
       "    .dataframe thead th {\n",
       "        text-align: right;\n",
       "    }\n",
       "</style>\n",
       "<table border=\"1\" class=\"dataframe\">\n",
       "  <thead>\n",
       "    <tr style=\"text-align: right;\">\n",
       "      <th>1</th>\n",
       "      <th>operation</th>\n",
       "      <th>Operation type</th>\n",
       "      <th>Cycle in Mins</th>\n",
       "      <th>Cycle Per Batch</th>\n",
       "      <th>Actual</th>\n",
       "      <th>Cycle Per Batch</th>\n",
       "    </tr>\n",
       "  </thead>\n",
       "  <tbody>\n",
       "    <tr>\n",
       "      <th>10</th>\n",
       "      <td>10</td>\n",
       "      <td>Drag Ceramic</td>\n",
       "      <td>30</td>\n",
       "      <td>360</td>\n",
       "      <td>3</td>\n",
       "      <td>72</td>\n",
       "    </tr>\n",
       "    <tr>\n",
       "      <th>11</th>\n",
       "      <td>20</td>\n",
       "      <td>Mecwash</td>\n",
       "      <td>66</td>\n",
       "      <td>792</td>\n",
       "      <td>1.25</td>\n",
       "      <td>30</td>\n",
       "    </tr>\n",
       "    <tr>\n",
       "      <th>12</th>\n",
       "      <td>30</td>\n",
       "      <td>Drag Plastic</td>\n",
       "      <td>0</td>\n",
       "      <td>0</td>\n",
       "      <td>3</td>\n",
       "      <td>72</td>\n",
       "    </tr>\n",
       "    <tr>\n",
       "      <th>13</th>\n",
       "      <td>40</td>\n",
       "      <td>Mecwash</td>\n",
       "      <td>0</td>\n",
       "      <td>0</td>\n",
       "      <td>1.25</td>\n",
       "      <td>30</td>\n",
       "    </tr>\n",
       "    <tr>\n",
       "      <th>14</th>\n",
       "      <td>50</td>\n",
       "      <td>Post Plastic Inspect</td>\n",
       "      <td>0</td>\n",
       "      <td>0</td>\n",
       "      <td>3</td>\n",
       "      <td>36</td>\n",
       "    </tr>\n",
       "    <tr>\n",
       "      <th>15</th>\n",
       "      <td>60</td>\n",
       "      <td>Optinal touch up</td>\n",
       "      <td>0</td>\n",
       "      <td>0</td>\n",
       "      <td>2</td>\n",
       "      <td>24</td>\n",
       "    </tr>\n",
       "    <tr>\n",
       "      <th>16</th>\n",
       "      <td>80</td>\n",
       "      <td>Drag Nutshell</td>\n",
       "      <td>0</td>\n",
       "      <td>0</td>\n",
       "      <td>3</td>\n",
       "      <td>72</td>\n",
       "    </tr>\n",
       "    <tr>\n",
       "      <th>17</th>\n",
       "      <td>90</td>\n",
       "      <td>Polish touch up and inspect</td>\n",
       "      <td>0</td>\n",
       "      <td>0</td>\n",
       "      <td>3</td>\n",
       "      <td>36</td>\n",
       "    </tr>\n",
       "    <tr>\n",
       "      <th>18</th>\n",
       "      <td>110</td>\n",
       "      <td>Mecwash</td>\n",
       "      <td>0</td>\n",
       "      <td>0</td>\n",
       "      <td>0.625</td>\n",
       "      <td>15</td>\n",
       "    </tr>\n",
       "    <tr>\n",
       "      <th>19</th>\n",
       "      <td>120</td>\n",
       "      <td>Final inspection</td>\n",
       "      <td>0</td>\n",
       "      <td>0</td>\n",
       "      <td>5</td>\n",
       "      <td>60</td>\n",
       "    </tr>\n",
       "    <tr>\n",
       "      <th>20</th>\n",
       "      <td>NaN</td>\n",
       "      <td>Mins Total</td>\n",
       "      <td>190.8</td>\n",
       "      <td>2289.6</td>\n",
       "      <td>NaN</td>\n",
       "      <td>543</td>\n",
       "    </tr>\n",
       "    <tr>\n",
       "      <th>21</th>\n",
       "      <td>NaN</td>\n",
       "      <td>Hrs Total</td>\n",
       "      <td>3.18</td>\n",
       "      <td>38.16</td>\n",
       "      <td>NaN</td>\n",
       "      <td>9.05</td>\n",
       "    </tr>\n",
       "  </tbody>\n",
       "</table>\n",
       "</div>"
      ],
      "text/plain": [
       "\n",
       "\u001b[1;36m1\u001b[0m  operation               Operation type Cycle in Mins Cycle Per Batch  \\\n",
       "\u001b[1;36m10\u001b[0m        \u001b[1;36m10\u001b[0m                 Drag Ceramic            \u001b[1;36m30\u001b[0m             \u001b[1;36m360\u001b[0m   \n",
       "\u001b[1;36m11\u001b[0m        \u001b[1;36m20\u001b[0m                      Mecwash            \u001b[1;36m66\u001b[0m             \u001b[1;36m792\u001b[0m   \n",
       "\u001b[1;36m12\u001b[0m        \u001b[1;36m30\u001b[0m                 Drag Plastic             \u001b[1;36m0\u001b[0m               \u001b[1;36m0\u001b[0m   \n",
       "\u001b[1;36m13\u001b[0m        \u001b[1;36m40\u001b[0m                      Mecwash             \u001b[1;36m0\u001b[0m               \u001b[1;36m0\u001b[0m   \n",
       "\u001b[1;36m14\u001b[0m        \u001b[1;36m50\u001b[0m         Post Plastic Inspect             \u001b[1;36m0\u001b[0m               \u001b[1;36m0\u001b[0m   \n",
       "\u001b[1;36m15\u001b[0m        \u001b[1;36m60\u001b[0m            Optinal touch up              \u001b[1;36m0\u001b[0m               \u001b[1;36m0\u001b[0m   \n",
       "\u001b[1;36m16\u001b[0m        \u001b[1;36m80\u001b[0m                Drag Nutshell             \u001b[1;36m0\u001b[0m               \u001b[1;36m0\u001b[0m   \n",
       "\u001b[1;36m17\u001b[0m        \u001b[1;36m90\u001b[0m  Polish touch up and inspect             \u001b[1;36m0\u001b[0m               \u001b[1;36m0\u001b[0m   \n",
       "\u001b[1;36m18\u001b[0m       \u001b[1;36m110\u001b[0m                      Mecwash             \u001b[1;36m0\u001b[0m               \u001b[1;36m0\u001b[0m   \n",
       "\u001b[1;36m19\u001b[0m       \u001b[1;36m120\u001b[0m             Final inspection             \u001b[1;36m0\u001b[0m               \u001b[1;36m0\u001b[0m   \n",
       "\u001b[1;36m20\u001b[0m       NaN                  Mins Total          \u001b[1;36m190.8\u001b[0m          \u001b[1;36m2289.6\u001b[0m   \n",
       "\u001b[1;36m21\u001b[0m       NaN                   Hrs Total           \u001b[1;36m3.18\u001b[0m           \u001b[1;36m38.16\u001b[0m   \n",
       "\n",
       "\u001b[1;36m1\u001b[0m  Actual  Cycle Per Batch  \n",
       "\u001b[1;36m10\u001b[0m       \u001b[1;36m3\u001b[0m              \u001b[1;36m72\u001b[0m  \n",
       "\u001b[1;36m11\u001b[0m    \u001b[1;36m1.25\u001b[0m              \u001b[1;36m30\u001b[0m  \n",
       "\u001b[1;36m12\u001b[0m       \u001b[1;36m3\u001b[0m              \u001b[1;36m72\u001b[0m  \n",
       "\u001b[1;36m13\u001b[0m    \u001b[1;36m1.25\u001b[0m              \u001b[1;36m30\u001b[0m  \n",
       "\u001b[1;36m14\u001b[0m       \u001b[1;36m3\u001b[0m              \u001b[1;36m36\u001b[0m  \n",
       "\u001b[1;36m15\u001b[0m       \u001b[1;36m2\u001b[0m              \u001b[1;36m24\u001b[0m  \n",
       "\u001b[1;36m16\u001b[0m       \u001b[1;36m3\u001b[0m              \u001b[1;36m72\u001b[0m  \n",
       "\u001b[1;36m17\u001b[0m       \u001b[1;36m3\u001b[0m              \u001b[1;36m36\u001b[0m  \n",
       "\u001b[1;36m18\u001b[0m   \u001b[1;36m0.625\u001b[0m              \u001b[1;36m15\u001b[0m  \n",
       "\u001b[1;36m19\u001b[0m       \u001b[1;36m5\u001b[0m              \u001b[1;36m60\u001b[0m  \n",
       "\u001b[1;36m20\u001b[0m     NaN             \u001b[1;36m543\u001b[0m  \n",
       "\u001b[1;36m21\u001b[0m     NaN            \u001b[1;36m9.05\u001b[0m  "
      ]
     },
     "execution_count": 16,
     "metadata": {},
     "output_type": "execute_result"
    }
   ],
   "source": [
    "monza_cycle_times_op2"
   ]
  },
  {
   "cell_type": "code",
   "execution_count": 15,
   "id": "2c195021-163b-4210-bd18-5147336ba0e7",
   "metadata": {},
   "outputs": [
    {
     "data": {
      "text/html": [
       "<pre style=\"white-space:pre;overflow-x:auto;line-height:normal;font-family:Menlo,'DejaVu Sans Mono',consolas,'Courier New',monospace\"></pre>\n"
      ],
      "text/plain": []
     },
     "metadata": {},
     "output_type": "display_data"
    },
    {
     "data": {
      "text/plain": [
       "\u001b[1;36m2\u001b[0m"
      ]
     },
     "execution_count": 15,
     "metadata": {},
     "output_type": "execute_result"
    }
   ],
   "source": [
    "monza_cycle_times_op2.loc[15, 'Actual ']"
   ]
  },
  {
   "cell_type": "code",
   "execution_count": null,
   "id": "d89cc08e-d677-44cf-9a08-28f02d13ce9a",
   "metadata": {},
   "outputs": [],
   "source": []
  }
 ],
 "metadata": {
  "kernelspec": {
   "display_name": "Kedro (eit_epsilon)",
   "language": "python",
   "name": "kedro_eit_epsilon"
  },
  "language_info": {
   "codemirror_mode": {
    "name": "ipython",
    "version": 3
   },
   "file_extension": ".py",
   "mimetype": "text/x-python",
   "name": "python",
   "nbconvert_exporter": "python",
   "pygments_lexer": "ipython3",
   "version": "3.11.9"
  }
 },
 "nbformat": 4,
 "nbformat_minor": 5
}
