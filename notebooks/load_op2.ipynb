{
 "cells": [
  {
   "cell_type": "code",
   "execution_count": 1,
   "id": "18349524-7a7f-42aa-9d41-4f13ee97cc5b",
   "metadata": {},
   "outputs": [
    {
     "data": {
      "text/html": [
       "<pre style=\"white-space:pre;overflow-x:auto;line-height:normal;font-family:Menlo,'DejaVu Sans Mono',consolas,'Courier New',monospace\"><span style=\"color: #7fbfbf; text-decoration-color: #7fbfbf\">[07/15/24 13:54:38] </span><span style=\"color: #000080; text-decoration-color: #000080\">INFO    </span> Loading data from <span style=\"color: #ff8700; text-decoration-color: #ff8700\">croom_open_orders</span> <span style=\"font-weight: bold\">(</span>ExcelDataset<span style=\"font-weight: bold\">)</span><span style=\"color: #808000; text-decoration-color: #808000\">...</span>              <a href=\"file://C:\\Users\\JeanLucOudshoorn\\miniconda3\\envs\\EIT-Epsilon\\Lib\\site-packages\\kedro\\io\\data_catalog.py\" target=\"_blank\"><span style=\"color: #7f7f7f; text-decoration-color: #7f7f7f\">data_catalog.py</span></a><span style=\"color: #7f7f7f; text-decoration-color: #7f7f7f\">:</span><a href=\"file://C:\\Users\\JeanLucOudshoorn\\miniconda3\\envs\\EIT-Epsilon\\Lib\\site-packages\\kedro\\io\\data_catalog.py#483\" target=\"_blank\"><span style=\"color: #7f7f7f; text-decoration-color: #7f7f7f\">483</span></a>\n",
       "</pre>\n"
      ],
      "text/plain": [
       "\u001B[2;36m[07/15/24 13:54:38]\u001B[0m\u001B[2;36m \u001B[0m\u001B[34mINFO    \u001B[0m Loading data from \u001B[38;5;208mcroom_open_orders\u001B[0m \u001B[1m(\u001B[0mExcelDataset\u001B[1m)\u001B[0m\u001B[33m...\u001B[0m              \u001B]8;id=380388;file://C:\\Users\\JeanLucOudshoorn\\miniconda3\\envs\\EIT-Epsilon\\Lib\\site-packages\\kedro\\io\\data_catalog.py\u001B\\\u001B[2mdata_catalog.py\u001B[0m\u001B]8;;\u001B\\\u001B[2m:\u001B[0m\u001B]8;id=886328;file://C:\\Users\\JeanLucOudshoorn\\miniconda3\\envs\\EIT-Epsilon\\Lib\\site-packages\\kedro\\io\\data_catalog.py#483\u001B\\\u001B[2m483\u001B[0m\u001B]8;;\u001B\\\n"
      ]
     },
     "metadata": {},
     "output_type": "display_data"
    }
   ],
   "source": [
    "df_orders = catalog.load('croom_open_orders')"
   ]
  },
  {
   "cell_type": "code",
   "execution_count": 2,
   "id": "ff0ed90d-3cb3-43d7-89cb-e01b173aae1b",
   "metadata": {},
   "outputs": [
    {
     "data": {
      "text/html": [
       "<pre style=\"white-space:pre;overflow-x:auto;line-height:normal;font-family:Menlo,'DejaVu Sans Mono',consolas,'Courier New',monospace\"></pre>\n"
      ],
      "text/plain": []
     },
     "metadata": {},
     "output_type": "display_data"
    },
    {
     "data": {
      "text/plain": [
       "\n",
       "\u001B[1;35mIndex\u001B[0m\u001B[1m(\u001B[0m\u001B[1m[\u001B[0m\u001B[32m'Job ID'\u001B[0m, \u001B[32m'Created Date'\u001B[0m, \u001B[32m'Created By'\u001B[0m, \u001B[32m'Prod Due Date'\u001B[0m, \u001B[32m'Customer ID'\u001B[0m,\n",
       "       \u001B[32m'Customer Name'\u001B[0m, \u001B[32m'Leadtime Target'\u001B[0m, \u001B[32m'To Sort'\u001B[0m, \u001B[32m'Due Date '\u001B[0m,\n",
       "       \u001B[32m'Overdue Y/N'\u001B[0m, \u001B[32m'Overdue Age'\u001B[0m, \u001B[32m'Week Num'\u001B[0m, \u001B[32m'Customer PO'\u001B[0m, \u001B[32m'Part ID'\u001B[0m,\n",
       "       \u001B[32m'Revision'\u001B[0m, \u001B[32m'UoM'\u001B[0m, \u001B[32m'Part Description'\u001B[0m, \u001B[32m'Order Qty'\u001B[0m, \u001B[32m'Qty Shipped'\u001B[0m,\n",
       "       \u001B[32m'Inventory Qty'\u001B[0m, \u001B[32m'Scrap Qty'\u001B[0m, \u001B[32m'Production Qty'\u001B[0m, \u001B[32m'Planning Complete?'\u001B[0m,\n",
       "       \u001B[32m'Schedule Complete?'\u001B[0m, \u001B[32m'Released to Floor?'\u001B[0m, \u001B[32m'On Hold?'\u001B[0m, \u001B[32m'Days_Open'\u001B[0m\u001B[1m]\u001B[0m,\n",
       "      \u001B[33mdtype\u001B[0m=\u001B[32m'object'\u001B[0m\u001B[1m)\u001B[0m"
      ]
     },
     "execution_count": 2,
     "metadata": {},
     "output_type": "execute_result"
    }
   ],
   "source": [
    "df_orders.columns"
   ]
  },
  {
   "cell_type": "code",
   "execution_count": 3,
   "id": "f417a191-c70a-4c4e-b478-4515825bcd47",
   "metadata": {},
   "outputs": [
    {
     "data": {
      "text/html": [
       "<pre style=\"white-space:pre;overflow-x:auto;line-height:normal;font-family:Menlo,'DejaVu Sans Mono',consolas,'Courier New',monospace\"></pre>\n"
      ],
      "text/plain": []
     },
     "metadata": {},
     "output_type": "display_data"
    },
    {
     "data": {
      "text/plain": [
       "\n",
       "\u001B[1;36m0\u001B[0m       OP \u001B[1;36m1\u001B[0m - ATT CR FEM CLS Sz \u001B[1;36m8\u001B[0m - LEFT\n",
       "\u001B[1;36m1\u001B[0m       OP \u001B[1;36m1\u001B[0m - ATT CR FEM CLS Sz \u001B[1;36m8\u001B[0m - LEFT\n",
       "\u001B[1;36m2\u001B[0m       OP \u001B[1;36m1\u001B[0m - ATT CR FEM CLS Sz \u001B[1;36m8\u001B[0m - LEFT\n",
       "\u001B[1;36m3\u001B[0m       OP \u001B[1;36m1\u001B[0m - ATT CR FEM CLS Sz \u001B[1;36m8\u001B[0m - LEFT\n",
       "\u001B[1;36m4\u001B[0m       OP \u001B[1;36m1\u001B[0m - ATT CR FEM CLS Sz \u001B[1;36m8\u001B[0m - LEFT\n",
       "                      \u001B[33m...\u001B[0m                \n",
       "\u001B[1;36m1349\u001B[0m    \u001B[1;36m64953101\u001B[0m GMRS PROXIMAL TIBIAL SML\n",
       "\u001B[1;36m1350\u001B[0m     \u001B[1;36m64811120\u001B[0m MRH KNEE COMP FEM M LFT\n",
       "\u001B[1;36m1351\u001B[0m                          AS 9MM STEM\n",
       "\u001B[1;36m1352\u001B[0m                          AS 9MM STEM\n",
       "\u001B[1;36m1353\u001B[0m                      MAINTENANCE POs\n",
       "Name: Part Description, Length: \u001B[1;36m1354\u001B[0m, dtype: object"
      ]
     },
     "execution_count": 3,
     "metadata": {},
     "output_type": "execute_result"
    }
   ],
   "source": [
    "df_orders['Part Description']"
   ]
  },
  {
   "cell_type": "code",
   "execution_count": 4,
   "id": "a345b9a5-5e39-4406-aea6-c64ff88399e3",
   "metadata": {},
   "outputs": [
    {
     "data": {
      "text/html": [
       "<pre style=\"white-space:pre;overflow-x:auto;line-height:normal;font-family:Menlo,'DejaVu Sans Mono',consolas,'Courier New',monospace\"><span style=\"color: #7fbfbf; text-decoration-color: #7fbfbf\">[07/15/24 13:54:40] </span><span style=\"color: #000080; text-decoration-color: #000080\">INFO    </span> Loading data from <span style=\"color: #ff8700; text-decoration-color: #ff8700\">monza_cycle_times_op2</span> <span style=\"font-weight: bold\">(</span>ExcelDataset<span style=\"font-weight: bold\">)</span><span style=\"color: #808000; text-decoration-color: #808000\">...</span>          <a href=\"file://C:\\Users\\JeanLucOudshoorn\\miniconda3\\envs\\EIT-Epsilon\\Lib\\site-packages\\kedro\\io\\data_catalog.py\" target=\"_blank\"><span style=\"color: #7f7f7f; text-decoration-color: #7f7f7f\">data_catalog.py</span></a><span style=\"color: #7f7f7f; text-decoration-color: #7f7f7f\">:</span><a href=\"file://C:\\Users\\JeanLucOudshoorn\\miniconda3\\envs\\EIT-Epsilon\\Lib\\site-packages\\kedro\\io\\data_catalog.py#483\" target=\"_blank\"><span style=\"color: #7f7f7f; text-decoration-color: #7f7f7f\">483</span></a>\n",
       "</pre>\n"
      ],
      "text/plain": [
       "\u001B[2;36m[07/15/24 13:54:40]\u001B[0m\u001B[2;36m \u001B[0m\u001B[34mINFO    \u001B[0m Loading data from \u001B[38;5;208mmonza_cycle_times_op2\u001B[0m \u001B[1m(\u001B[0mExcelDataset\u001B[1m)\u001B[0m\u001B[33m...\u001B[0m          \u001B]8;id=515677;file://C:\\Users\\JeanLucOudshoorn\\miniconda3\\envs\\EIT-Epsilon\\Lib\\site-packages\\kedro\\io\\data_catalog.py\u001B\\\u001B[2mdata_catalog.py\u001B[0m\u001B]8;;\u001B\\\u001B[2m:\u001B[0m\u001B]8;id=544217;file://C:\\Users\\JeanLucOudshoorn\\miniconda3\\envs\\EIT-Epsilon\\Lib\\site-packages\\kedro\\io\\data_catalog.py#483\u001B\\\u001B[2m483\u001B[0m\u001B]8;;\u001B\\\n"
      ]
     },
     "metadata": {},
     "output_type": "display_data"
    }
   ],
   "source": [
    "monza_cycle_times_op2 = catalog.load('monza_cycle_times_op2')"
   ]
  },
  {
   "cell_type": "code",
   "execution_count": 5,
   "id": "ae21f8d4-3b5f-40be-91b5-026d524a8588",
   "metadata": {},
   "outputs": [
    {
     "data": {
      "text/html": [
       "<pre style=\"white-space:pre;overflow-x:auto;line-height:normal;font-family:Menlo,'DejaVu Sans Mono',consolas,'Courier New',monospace\"></pre>\n"
      ],
      "text/plain": []
     },
     "metadata": {},
     "output_type": "display_data"
    },
    {
     "data": {
      "text/html": [
       "<div>\n",
       "<style scoped>\n",
       "    .dataframe tbody tr th:only-of-type {\n",
       "        vertical-align: middle;\n",
       "    }\n",
       "\n",
       "    .dataframe tbody tr th {\n",
       "        vertical-align: top;\n",
       "    }\n",
       "\n",
       "    .dataframe thead th {\n",
       "        text-align: right;\n",
       "    }\n",
       "</style>\n",
       "<table border=\"1\" class=\"dataframe\">\n",
       "  <thead>\n",
       "    <tr style=\"text-align: right;\">\n",
       "      <th></th>\n",
       "      <th>Unnamed: 0</th>\n",
       "      <th>Unnamed: 1</th>\n",
       "      <th>Unnamed: 2</th>\n",
       "      <th>Unnamed: 3</th>\n",
       "      <th>12</th>\n",
       "      <th>Unnamed: 5</th>\n",
       "      <th>24</th>\n",
       "    </tr>\n",
       "  </thead>\n",
       "  <tbody>\n",
       "    <tr>\n",
       "      <th>0</th>\n",
       "      <td>Monza  Op2 Cycle times</td>\n",
       "      <td>NaN</td>\n",
       "      <td>NaN</td>\n",
       "      <td>PS &amp; CR  op2 -</td>\n",
       "      <td>NaN</td>\n",
       "      <td>NaN</td>\n",
       "      <td>NaN</td>\n",
       "    </tr>\n",
       "    <tr>\n",
       "      <th>1</th>\n",
       "      <td>No of parts / cycle</td>\n",
       "      <td>operation</td>\n",
       "      <td>Operation type</td>\n",
       "      <td>Cycle in Mins</td>\n",
       "      <td>Cycle Per Batch</td>\n",
       "      <td>Actual</td>\n",
       "      <td>Cycle Per Batch</td>\n",
       "    </tr>\n",
       "    <tr>\n",
       "      <th>2</th>\n",
       "      <td>24</td>\n",
       "      <td>10</td>\n",
       "      <td>Drag Ceramic</td>\n",
       "      <td>30</td>\n",
       "      <td>360</td>\n",
       "      <td>3</td>\n",
       "      <td>72</td>\n",
       "    </tr>\n",
       "    <tr>\n",
       "      <th>3</th>\n",
       "      <td>24</td>\n",
       "      <td>20</td>\n",
       "      <td>Mecwash</td>\n",
       "      <td>66</td>\n",
       "      <td>792</td>\n",
       "      <td>1.25</td>\n",
       "      <td>30</td>\n",
       "    </tr>\n",
       "    <tr>\n",
       "      <th>4</th>\n",
       "      <td>24</td>\n",
       "      <td>30</td>\n",
       "      <td>Drag Plastic</td>\n",
       "      <td>0</td>\n",
       "      <td>0</td>\n",
       "      <td>3</td>\n",
       "      <td>72</td>\n",
       "    </tr>\n",
       "    <tr>\n",
       "      <th>5</th>\n",
       "      <td>24</td>\n",
       "      <td>40</td>\n",
       "      <td>Mecwash</td>\n",
       "      <td>0</td>\n",
       "      <td>0</td>\n",
       "      <td>1.25</td>\n",
       "      <td>30</td>\n",
       "    </tr>\n",
       "    <tr>\n",
       "      <th>6</th>\n",
       "      <td>1</td>\n",
       "      <td>50</td>\n",
       "      <td>Post Plastic Inspect</td>\n",
       "      <td>0</td>\n",
       "      <td>0</td>\n",
       "      <td>3</td>\n",
       "      <td>36</td>\n",
       "    </tr>\n",
       "    <tr>\n",
       "      <th>7</th>\n",
       "      <td>1</td>\n",
       "      <td>60</td>\n",
       "      <td>Optinal touch up</td>\n",
       "      <td>0</td>\n",
       "      <td>0</td>\n",
       "      <td>2</td>\n",
       "      <td>24</td>\n",
       "    </tr>\n",
       "    <tr>\n",
       "      <th>8</th>\n",
       "      <td>NaN</td>\n",
       "      <td>70</td>\n",
       "      <td>FPI</td>\n",
       "      <td>94.8</td>\n",
       "      <td>1137.6</td>\n",
       "      <td>5</td>\n",
       "      <td>60</td>\n",
       "    </tr>\n",
       "    <tr>\n",
       "      <th>9</th>\n",
       "      <td>24</td>\n",
       "      <td>80</td>\n",
       "      <td>Drag Nutshell</td>\n",
       "      <td>0</td>\n",
       "      <td>0</td>\n",
       "      <td>3</td>\n",
       "      <td>72</td>\n",
       "    </tr>\n",
       "    <tr>\n",
       "      <th>10</th>\n",
       "      <td>1</td>\n",
       "      <td>90</td>\n",
       "      <td>Polish touch up and inspect</td>\n",
       "      <td>0</td>\n",
       "      <td>0</td>\n",
       "      <td>3</td>\n",
       "      <td>36</td>\n",
       "    </tr>\n",
       "    <tr>\n",
       "      <th>11</th>\n",
       "      <td>1</td>\n",
       "      <td>100</td>\n",
       "      <td>RA testing</td>\n",
       "      <td>0</td>\n",
       "      <td>0</td>\n",
       "      <td>3</td>\n",
       "      <td>36</td>\n",
       "    </tr>\n",
       "    <tr>\n",
       "      <th>12</th>\n",
       "      <td>24</td>\n",
       "      <td>110</td>\n",
       "      <td>Mecwash</td>\n",
       "      <td>0</td>\n",
       "      <td>0</td>\n",
       "      <td>0.625</td>\n",
       "      <td>15</td>\n",
       "    </tr>\n",
       "    <tr>\n",
       "      <th>13</th>\n",
       "      <td>1</td>\n",
       "      <td>120</td>\n",
       "      <td>Final inspection</td>\n",
       "      <td>0</td>\n",
       "      <td>0</td>\n",
       "      <td>5</td>\n",
       "      <td>60</td>\n",
       "    </tr>\n",
       "    <tr>\n",
       "      <th>14</th>\n",
       "      <td>NaN</td>\n",
       "      <td>NaN</td>\n",
       "      <td>Mins Total</td>\n",
       "      <td>190.8</td>\n",
       "      <td>2289.6</td>\n",
       "      <td>NaN</td>\n",
       "      <td>543</td>\n",
       "    </tr>\n",
       "    <tr>\n",
       "      <th>15</th>\n",
       "      <td>NaN</td>\n",
       "      <td>NaN</td>\n",
       "      <td>Hrs Total</td>\n",
       "      <td>3.18</td>\n",
       "      <td>38.16</td>\n",
       "      <td>NaN</td>\n",
       "      <td>9.05</td>\n",
       "    </tr>\n",
       "  </tbody>\n",
       "</table>\n",
       "</div>"
      ],
      "text/plain": [
       "\n",
       "                Unnamed: \u001B[1;36m0\u001B[0m Unnamed: \u001B[1;36m1\u001B[0m                   Unnamed: \u001B[1;36m2\u001B[0m  \\\n",
       "\u001B[1;36m0\u001B[0m   Monza  Op2 Cycle times        NaN                          NaN   \n",
       "\u001B[1;36m1\u001B[0m      No of parts \u001B[35m/\u001B[0m cycle  operation               Operation type   \n",
       "\u001B[1;36m2\u001B[0m                       \u001B[1;36m24\u001B[0m         \u001B[1;36m10\u001B[0m                 Drag Ceramic   \n",
       "\u001B[1;36m3\u001B[0m                       \u001B[1;36m24\u001B[0m         \u001B[1;36m20\u001B[0m                      Mecwash   \n",
       "\u001B[1;36m4\u001B[0m                       \u001B[1;36m24\u001B[0m         \u001B[1;36m30\u001B[0m                 Drag Plastic   \n",
       "\u001B[1;36m5\u001B[0m                       \u001B[1;36m24\u001B[0m         \u001B[1;36m40\u001B[0m                      Mecwash   \n",
       "\u001B[1;36m6\u001B[0m                        \u001B[1;36m1\u001B[0m         \u001B[1;36m50\u001B[0m         Post Plastic Inspect   \n",
       "\u001B[1;36m7\u001B[0m                        \u001B[1;36m1\u001B[0m         \u001B[1;36m60\u001B[0m            Optinal touch up    \n",
       "\u001B[1;36m8\u001B[0m                      NaN         \u001B[1;36m70\u001B[0m                          FPI   \n",
       "\u001B[1;36m9\u001B[0m                       \u001B[1;36m24\u001B[0m         \u001B[1;36m80\u001B[0m                Drag Nutshell   \n",
       "\u001B[1;36m10\u001B[0m                       \u001B[1;36m1\u001B[0m         \u001B[1;36m90\u001B[0m  Polish touch up and inspect   \n",
       "\u001B[1;36m11\u001B[0m                       \u001B[1;36m1\u001B[0m        \u001B[1;36m100\u001B[0m                  RA testing    \n",
       "\u001B[1;36m12\u001B[0m                      \u001B[1;36m24\u001B[0m        \u001B[1;36m110\u001B[0m                      Mecwash   \n",
       "\u001B[1;36m13\u001B[0m                       \u001B[1;36m1\u001B[0m        \u001B[1;36m120\u001B[0m             Final inspection   \n",
       "\u001B[1;36m14\u001B[0m                     NaN        NaN                  Mins Total    \n",
       "\u001B[1;36m15\u001B[0m                     NaN        NaN                   Hrs Total    \n",
       "\n",
       "          Unnamed: \u001B[1;36m3\u001B[0m               \u001B[1;36m12\u001B[0m Unnamed: \u001B[1;36m5\u001B[0m               \u001B[1;36m24\u001B[0m  \n",
       "\u001B[1;36m0\u001B[0m   PS & CR  op2 -                NaN        NaN              NaN  \n",
       "\u001B[1;36m1\u001B[0m      Cycle in Mins  Cycle Per Batch    Actual   Cycle Per Batch  \n",
       "\u001B[1;36m2\u001B[0m                 \u001B[1;36m30\u001B[0m              \u001B[1;36m360\u001B[0m          \u001B[1;36m3\u001B[0m               \u001B[1;36m72\u001B[0m  \n",
       "\u001B[1;36m3\u001B[0m                 \u001B[1;36m66\u001B[0m              \u001B[1;36m792\u001B[0m       \u001B[1;36m1.25\u001B[0m               \u001B[1;36m30\u001B[0m  \n",
       "\u001B[1;36m4\u001B[0m                  \u001B[1;36m0\u001B[0m                \u001B[1;36m0\u001B[0m          \u001B[1;36m3\u001B[0m               \u001B[1;36m72\u001B[0m  \n",
       "\u001B[1;36m5\u001B[0m                  \u001B[1;36m0\u001B[0m                \u001B[1;36m0\u001B[0m       \u001B[1;36m1.25\u001B[0m               \u001B[1;36m30\u001B[0m  \n",
       "\u001B[1;36m6\u001B[0m                  \u001B[1;36m0\u001B[0m                \u001B[1;36m0\u001B[0m          \u001B[1;36m3\u001B[0m               \u001B[1;36m36\u001B[0m  \n",
       "\u001B[1;36m7\u001B[0m                  \u001B[1;36m0\u001B[0m                \u001B[1;36m0\u001B[0m          \u001B[1;36m2\u001B[0m               \u001B[1;36m24\u001B[0m  \n",
       "\u001B[1;36m8\u001B[0m               \u001B[1;36m94.8\u001B[0m           \u001B[1;36m1137.6\u001B[0m          \u001B[1;36m5\u001B[0m               \u001B[1;36m60\u001B[0m  \n",
       "\u001B[1;36m9\u001B[0m                  \u001B[1;36m0\u001B[0m                \u001B[1;36m0\u001B[0m          \u001B[1;36m3\u001B[0m               \u001B[1;36m72\u001B[0m  \n",
       "\u001B[1;36m10\u001B[0m                 \u001B[1;36m0\u001B[0m                \u001B[1;36m0\u001B[0m          \u001B[1;36m3\u001B[0m               \u001B[1;36m36\u001B[0m  \n",
       "\u001B[1;36m11\u001B[0m                 \u001B[1;36m0\u001B[0m                \u001B[1;36m0\u001B[0m          \u001B[1;36m3\u001B[0m               \u001B[1;36m36\u001B[0m  \n",
       "\u001B[1;36m12\u001B[0m                 \u001B[1;36m0\u001B[0m                \u001B[1;36m0\u001B[0m      \u001B[1;36m0.625\u001B[0m               \u001B[1;36m15\u001B[0m  \n",
       "\u001B[1;36m13\u001B[0m                 \u001B[1;36m0\u001B[0m                \u001B[1;36m0\u001B[0m          \u001B[1;36m5\u001B[0m               \u001B[1;36m60\u001B[0m  \n",
       "\u001B[1;36m14\u001B[0m             \u001B[1;36m190.8\u001B[0m           \u001B[1;36m2289.6\u001B[0m        NaN              \u001B[1;36m543\u001B[0m  \n",
       "\u001B[1;36m15\u001B[0m              \u001B[1;36m3.18\u001B[0m            \u001B[1;36m38.16\u001B[0m        NaN             \u001B[1;36m9.05\u001B[0m  "
      ]
     },
     "execution_count": 5,
     "metadata": {},
     "output_type": "execute_result"
    }
   ],
   "source": [
    "monza_cycle_times_op2"
   ]
  },
  {
   "cell_type": "code",
   "execution_count": 6,
   "id": "2392f9c1-a7f6-478c-9ab4-27512e430b02",
   "metadata": {},
   "outputs": [],
   "source": [
    "monza_cycle_times_op2.columns = monza_cycle_times_op2.iloc[1]"
   ]
  },
  {
   "cell_type": "code",
   "execution_count": 7,
   "id": "0fe788b1-788c-4836-961f-eabef54ba17f",
   "metadata": {},
   "outputs": [],
   "source": [
    "monza_cycle_times_op2 = monza_cycle_times_op2.iloc[2:, 1:]"
   ]
  },
  {
   "cell_type": "code",
   "execution_count": 8,
   "id": "55d6ddbc-5204-4cc5-8765-0da78cbc6468",
   "metadata": {},
   "outputs": [],
   "source": [
    "monza_cycle_times_op2 = monza_cycle_times_op2[~monza_cycle_times_op2['Operation type'].isin(['FPI', 'RA testing '])]"
   ]
  },
  {
   "cell_type": "code",
   "execution_count": 10,
   "id": "a64bce78-53bd-4d01-addc-7d0afc39af63",
   "metadata": {},
   "outputs": [],
   "source": [
    "monza_cycle_times_op2.index = range(10, 10 + len(monza_cycle_times_op2))"
   ]
  },
  {
   "cell_type": "code",
   "execution_count": 16,
   "id": "972ad396-6972-4568-a965-22d7cbf3c5e4",
   "metadata": {},
   "outputs": [
    {
     "data": {
      "text/html": [
       "<pre style=\"white-space:pre;overflow-x:auto;line-height:normal;font-family:Menlo,'DejaVu Sans Mono',consolas,'Courier New',monospace\"></pre>\n"
      ],
      "text/plain": []
     },
     "metadata": {},
     "output_type": "display_data"
    },
    {
     "data": {
      "text/html": [
       "<div>\n",
       "<style scoped>\n",
       "    .dataframe tbody tr th:only-of-type {\n",
       "        vertical-align: middle;\n",
       "    }\n",
       "\n",
       "    .dataframe tbody tr th {\n",
       "        vertical-align: top;\n",
       "    }\n",
       "\n",
       "    .dataframe thead th {\n",
       "        text-align: right;\n",
       "    }\n",
       "</style>\n",
       "<table border=\"1\" class=\"dataframe\">\n",
       "  <thead>\n",
       "    <tr style=\"text-align: right;\">\n",
       "      <th>1</th>\n",
       "      <th>operation</th>\n",
       "      <th>Operation type</th>\n",
       "      <th>Cycle in Mins</th>\n",
       "      <th>Cycle Per Batch</th>\n",
       "      <th>Actual</th>\n",
       "      <th>Cycle Per Batch</th>\n",
       "    </tr>\n",
       "  </thead>\n",
       "  <tbody>\n",
       "    <tr>\n",
       "      <th>10</th>\n",
       "      <td>10</td>\n",
       "      <td>Drag Ceramic</td>\n",
       "      <td>30</td>\n",
       "      <td>360</td>\n",
       "      <td>3</td>\n",
       "      <td>72</td>\n",
       "    </tr>\n",
       "    <tr>\n",
       "      <th>11</th>\n",
       "      <td>20</td>\n",
       "      <td>Mecwash</td>\n",
       "      <td>66</td>\n",
       "      <td>792</td>\n",
       "      <td>1.25</td>\n",
       "      <td>30</td>\n",
       "    </tr>\n",
       "    <tr>\n",
       "      <th>12</th>\n",
       "      <td>30</td>\n",
       "      <td>Drag Plastic</td>\n",
       "      <td>0</td>\n",
       "      <td>0</td>\n",
       "      <td>3</td>\n",
       "      <td>72</td>\n",
       "    </tr>\n",
       "    <tr>\n",
       "      <th>13</th>\n",
       "      <td>40</td>\n",
       "      <td>Mecwash</td>\n",
       "      <td>0</td>\n",
       "      <td>0</td>\n",
       "      <td>1.25</td>\n",
       "      <td>30</td>\n",
       "    </tr>\n",
       "    <tr>\n",
       "      <th>14</th>\n",
       "      <td>50</td>\n",
       "      <td>Post Plastic Inspect</td>\n",
       "      <td>0</td>\n",
       "      <td>0</td>\n",
       "      <td>3</td>\n",
       "      <td>36</td>\n",
       "    </tr>\n",
       "    <tr>\n",
       "      <th>15</th>\n",
       "      <td>60</td>\n",
       "      <td>Optinal touch up</td>\n",
       "      <td>0</td>\n",
       "      <td>0</td>\n",
       "      <td>2</td>\n",
       "      <td>24</td>\n",
       "    </tr>\n",
       "    <tr>\n",
       "      <th>16</th>\n",
       "      <td>80</td>\n",
       "      <td>Drag Nutshell</td>\n",
       "      <td>0</td>\n",
       "      <td>0</td>\n",
       "      <td>3</td>\n",
       "      <td>72</td>\n",
       "    </tr>\n",
       "    <tr>\n",
       "      <th>17</th>\n",
       "      <td>90</td>\n",
       "      <td>Polish touch up and inspect</td>\n",
       "      <td>0</td>\n",
       "      <td>0</td>\n",
       "      <td>3</td>\n",
       "      <td>36</td>\n",
       "    </tr>\n",
       "    <tr>\n",
       "      <th>18</th>\n",
       "      <td>110</td>\n",
       "      <td>Mecwash</td>\n",
       "      <td>0</td>\n",
       "      <td>0</td>\n",
       "      <td>0.625</td>\n",
       "      <td>15</td>\n",
       "    </tr>\n",
       "    <tr>\n",
       "      <th>19</th>\n",
       "      <td>120</td>\n",
       "      <td>Final inspection</td>\n",
       "      <td>0</td>\n",
       "      <td>0</td>\n",
       "      <td>5</td>\n",
       "      <td>60</td>\n",
       "    </tr>\n",
       "    <tr>\n",
       "      <th>20</th>\n",
       "      <td>NaN</td>\n",
       "      <td>Mins Total</td>\n",
       "      <td>190.8</td>\n",
       "      <td>2289.6</td>\n",
       "      <td>NaN</td>\n",
       "      <td>543</td>\n",
       "    </tr>\n",
       "    <tr>\n",
       "      <th>21</th>\n",
       "      <td>NaN</td>\n",
       "      <td>Hrs Total</td>\n",
       "      <td>3.18</td>\n",
       "      <td>38.16</td>\n",
       "      <td>NaN</td>\n",
       "      <td>9.05</td>\n",
       "    </tr>\n",
       "  </tbody>\n",
       "</table>\n",
       "</div>"
      ],
      "text/plain": [
       "\n",
       "\u001B[1;36m1\u001B[0m  operation               Operation type Cycle in Mins Cycle Per Batch  \\\n",
       "\u001B[1;36m10\u001B[0m        \u001B[1;36m10\u001B[0m                 Drag Ceramic            \u001B[1;36m30\u001B[0m             \u001B[1;36m360\u001B[0m   \n",
       "\u001B[1;36m11\u001B[0m        \u001B[1;36m20\u001B[0m                      Mecwash            \u001B[1;36m66\u001B[0m             \u001B[1;36m792\u001B[0m   \n",
       "\u001B[1;36m12\u001B[0m        \u001B[1;36m30\u001B[0m                 Drag Plastic             \u001B[1;36m0\u001B[0m               \u001B[1;36m0\u001B[0m   \n",
       "\u001B[1;36m13\u001B[0m        \u001B[1;36m40\u001B[0m                      Mecwash             \u001B[1;36m0\u001B[0m               \u001B[1;36m0\u001B[0m   \n",
       "\u001B[1;36m14\u001B[0m        \u001B[1;36m50\u001B[0m         Post Plastic Inspect             \u001B[1;36m0\u001B[0m               \u001B[1;36m0\u001B[0m   \n",
       "\u001B[1;36m15\u001B[0m        \u001B[1;36m60\u001B[0m            Optinal touch up              \u001B[1;36m0\u001B[0m               \u001B[1;36m0\u001B[0m   \n",
       "\u001B[1;36m16\u001B[0m        \u001B[1;36m80\u001B[0m                Drag Nutshell             \u001B[1;36m0\u001B[0m               \u001B[1;36m0\u001B[0m   \n",
       "\u001B[1;36m17\u001B[0m        \u001B[1;36m90\u001B[0m  Polish touch up and inspect             \u001B[1;36m0\u001B[0m               \u001B[1;36m0\u001B[0m   \n",
       "\u001B[1;36m18\u001B[0m       \u001B[1;36m110\u001B[0m                      Mecwash             \u001B[1;36m0\u001B[0m               \u001B[1;36m0\u001B[0m   \n",
       "\u001B[1;36m19\u001B[0m       \u001B[1;36m120\u001B[0m             Final inspection             \u001B[1;36m0\u001B[0m               \u001B[1;36m0\u001B[0m   \n",
       "\u001B[1;36m20\u001B[0m       NaN                  Mins Total          \u001B[1;36m190.8\u001B[0m          \u001B[1;36m2289.6\u001B[0m   \n",
       "\u001B[1;36m21\u001B[0m       NaN                   Hrs Total           \u001B[1;36m3.18\u001B[0m           \u001B[1;36m38.16\u001B[0m   \n",
       "\n",
       "\u001B[1;36m1\u001B[0m  Actual  Cycle Per Batch  \n",
       "\u001B[1;36m10\u001B[0m       \u001B[1;36m3\u001B[0m              \u001B[1;36m72\u001B[0m  \n",
       "\u001B[1;36m11\u001B[0m    \u001B[1;36m1.25\u001B[0m              \u001B[1;36m30\u001B[0m  \n",
       "\u001B[1;36m12\u001B[0m       \u001B[1;36m3\u001B[0m              \u001B[1;36m72\u001B[0m  \n",
       "\u001B[1;36m13\u001B[0m    \u001B[1;36m1.25\u001B[0m              \u001B[1;36m30\u001B[0m  \n",
       "\u001B[1;36m14\u001B[0m       \u001B[1;36m3\u001B[0m              \u001B[1;36m36\u001B[0m  \n",
       "\u001B[1;36m15\u001B[0m       \u001B[1;36m2\u001B[0m              \u001B[1;36m24\u001B[0m  \n",
       "\u001B[1;36m16\u001B[0m       \u001B[1;36m3\u001B[0m              \u001B[1;36m72\u001B[0m  \n",
       "\u001B[1;36m17\u001B[0m       \u001B[1;36m3\u001B[0m              \u001B[1;36m36\u001B[0m  \n",
       "\u001B[1;36m18\u001B[0m   \u001B[1;36m0.625\u001B[0m              \u001B[1;36m15\u001B[0m  \n",
       "\u001B[1;36m19\u001B[0m       \u001B[1;36m5\u001B[0m              \u001B[1;36m60\u001B[0m  \n",
       "\u001B[1;36m20\u001B[0m     NaN             \u001B[1;36m543\u001B[0m  \n",
       "\u001B[1;36m21\u001B[0m     NaN            \u001B[1;36m9.05\u001B[0m  "
      ]
     },
     "execution_count": 16,
     "metadata": {},
     "output_type": "execute_result"
    }
   ],
   "source": [
    "monza_cycle_times_op2"
   ]
  },
  {
   "cell_type": "code",
   "execution_count": 15,
   "id": "2c195021-163b-4210-bd18-5147336ba0e7",
   "metadata": {},
   "outputs": [
    {
     "data": {
      "text/html": [
       "<pre style=\"white-space:pre;overflow-x:auto;line-height:normal;font-family:Menlo,'DejaVu Sans Mono',consolas,'Courier New',monospace\"></pre>\n"
      ],
      "text/plain": []
     },
     "metadata": {},
     "output_type": "display_data"
    },
    {
     "data": {
      "text/plain": [
       "\u001B[1;36m2\u001B[0m"
      ]
     },
     "execution_count": 15,
     "metadata": {},
     "output_type": "execute_result"
    }
   ],
   "source": [
    "monza_cycle_times_op2.loc[15, 'Actual ']"
   ]
  },
  {
   "cell_type": "markdown",
   "id": "d2dfaa35-90d1-4164-aef6-52acfaa0a801",
   "metadata": {},
   "source": [
    "## Output analysis"
   ]
  },
  {
   "cell_type": "code",
   "execution_count": 1,
   "id": "dd468835-91bc-4ac4-997d-03054d519de3",
   "metadata": {},
   "outputs": [
    {
     "data": {
      "text/html": [
       "<pre style=\"white-space:pre;overflow-x:auto;line-height:normal;font-family:Menlo,'DejaVu Sans Mono',consolas,'Courier New',monospace\"><span style=\"color: #7fbfbf; text-decoration-color: #7fbfbf\">[08/06/24 13:49:56] </span><span style=\"color: #000080; text-decoration-color: #000080\">INFO    </span> Loading data from <span style=\"color: #ff8700; text-decoration-color: #ff8700\">croom_reformatted_orders</span> <span style=\"font-weight: bold\">(</span>ParquetDataset<span style=\"font-weight: bold\">)</span><span style=\"color: #808000; text-decoration-color: #808000\">...</span>     <a href=\"file://C:\\Users\\JeanLucOudshoorn\\miniconda3\\envs\\EIT-Epsilon\\Lib\\site-packages\\kedro\\io\\data_catalog.py\" target=\"_blank\"><span style=\"color: #7f7f7f; text-decoration-color: #7f7f7f\">data_catalog.py</span></a><span style=\"color: #7f7f7f; text-decoration-color: #7f7f7f\">:</span><a href=\"file://C:\\Users\\JeanLucOudshoorn\\miniconda3\\envs\\EIT-Epsilon\\Lib\\site-packages\\kedro\\io\\data_catalog.py#483\" target=\"_blank\"><span style=\"color: #7f7f7f; text-decoration-color: #7f7f7f\">483</span></a>\n",
       "</pre>\n"
      ],
      "text/plain": [
       "\u001B[2;36m[08/06/24 13:49:56]\u001B[0m\u001B[2;36m \u001B[0m\u001B[34mINFO    \u001B[0m Loading data from \u001B[38;5;208mcroom_reformatted_orders\u001B[0m \u001B[1m(\u001B[0mParquetDataset\u001B[1m)\u001B[0m\u001B[33m...\u001B[0m     \u001B]8;id=431622;file://C:\\Users\\JeanLucOudshoorn\\miniconda3\\envs\\EIT-Epsilon\\Lib\\site-packages\\kedro\\io\\data_catalog.py\u001B\\\u001B[2mdata_catalog.py\u001B[0m\u001B]8;;\u001B\\\u001B[2m:\u001B[0m\u001B]8;id=138622;file://C:\\Users\\JeanLucOudshoorn\\miniconda3\\envs\\EIT-Epsilon\\Lib\\site-packages\\kedro\\io\\data_catalog.py#483\u001B\\\u001B[2m483\u001B[0m\u001B]8;;\u001B\\\n"
      ]
     },
     "metadata": {},
     "output_type": "display_data"
    }
   ],
   "source": [
    "output = catalog.load('croom_reformatted_orders')"
   ]
  },
  {
   "cell_type": "code",
   "execution_count": 9,
   "id": "4ff3dbf5-a7fa-400e-995f-23fefaa985b0",
   "metadata": {},
   "outputs": [
    {
     "data": {
      "text/html": [
       "<pre style=\"white-space:pre;overflow-x:auto;line-height:normal;font-family:Menlo,'DejaVu Sans Mono',consolas,'Courier New',monospace\"></pre>\n"
      ],
      "text/plain": []
     },
     "metadata": {},
     "output_type": "display_data"
    },
    {
     "data": {
      "text/html": [
       "<div>\n",
       "<style scoped>\n",
       "    .dataframe tbody tr th:only-of-type {\n",
       "        vertical-align: middle;\n",
       "    }\n",
       "\n",
       "    .dataframe tbody tr th {\n",
       "        vertical-align: top;\n",
       "    }\n",
       "\n",
       "    .dataframe thead th {\n",
       "        text-align: right;\n",
       "    }\n",
       "</style>\n",
       "<table border=\"1\" class=\"dataframe\">\n",
       "  <thead>\n",
       "    <tr style=\"text-align: right;\">\n",
       "      <th></th>\n",
       "      <th>Machine</th>\n",
       "      <th>Start_time</th>\n",
       "      <th>End_time</th>\n",
       "    </tr>\n",
       "  </thead>\n",
       "  <tbody>\n",
       "    <tr>\n",
       "      <th>344</th>\n",
       "      <td>HAAS-5</td>\n",
       "      <td>0.0</td>\n",
       "      <td>150.0</td>\n",
       "    </tr>\n",
       "    <tr>\n",
       "      <th>358</th>\n",
       "      <td>HAAS-5</td>\n",
       "      <td>335.0</td>\n",
       "      <td>497.0</td>\n",
       "    </tr>\n",
       "    <tr>\n",
       "      <th>365</th>\n",
       "      <td>HAAS-5</td>\n",
       "      <td>502.0</td>\n",
       "      <td>664.0</td>\n",
       "    </tr>\n",
       "    <tr>\n",
       "      <th>372</th>\n",
       "      <td>HAAS-5</td>\n",
       "      <td>669.0</td>\n",
       "      <td>831.0</td>\n",
       "    </tr>\n",
       "    <tr>\n",
       "      <th>379</th>\n",
       "      <td>HAAS-5</td>\n",
       "      <td>836.0</td>\n",
       "      <td>998.0</td>\n",
       "    </tr>\n",
       "    <tr>\n",
       "      <th>386</th>\n",
       "      <td>HAAS-5</td>\n",
       "      <td>1003.0</td>\n",
       "      <td>1165.0</td>\n",
       "    </tr>\n",
       "    <tr>\n",
       "      <th>393</th>\n",
       "      <td>HAAS-5</td>\n",
       "      <td>1170.0</td>\n",
       "      <td>1332.0</td>\n",
       "    </tr>\n",
       "    <tr>\n",
       "      <th>400</th>\n",
       "      <td>HAAS-5</td>\n",
       "      <td>1337.0</td>\n",
       "      <td>1499.0</td>\n",
       "    </tr>\n",
       "    <tr>\n",
       "      <th>407</th>\n",
       "      <td>HAAS-5</td>\n",
       "      <td>1504.0</td>\n",
       "      <td>1666.0</td>\n",
       "    </tr>\n",
       "    <tr>\n",
       "      <th>414</th>\n",
       "      <td>HAAS-5</td>\n",
       "      <td>1671.0</td>\n",
       "      <td>1833.0</td>\n",
       "    </tr>\n",
       "    <tr>\n",
       "      <th>421</th>\n",
       "      <td>HAAS-5</td>\n",
       "      <td>1838.0</td>\n",
       "      <td>2000.0</td>\n",
       "    </tr>\n",
       "    <tr>\n",
       "      <th>428</th>\n",
       "      <td>HAAS-5</td>\n",
       "      <td>2005.0</td>\n",
       "      <td>2167.0</td>\n",
       "    </tr>\n",
       "    <tr>\n",
       "      <th>435</th>\n",
       "      <td>HAAS-5</td>\n",
       "      <td>2172.0</td>\n",
       "      <td>2334.0</td>\n",
       "    </tr>\n",
       "    <tr>\n",
       "      <th>442</th>\n",
       "      <td>HAAS-5</td>\n",
       "      <td>2339.0</td>\n",
       "      <td>2501.0</td>\n",
       "    </tr>\n",
       "    <tr>\n",
       "      <th>449</th>\n",
       "      <td>HAAS-5</td>\n",
       "      <td>2506.0</td>\n",
       "      <td>2668.0</td>\n",
       "    </tr>\n",
       "    <tr>\n",
       "      <th>456</th>\n",
       "      <td>HAAS-5</td>\n",
       "      <td>2673.0</td>\n",
       "      <td>2835.0</td>\n",
       "    </tr>\n",
       "    <tr>\n",
       "      <th>463</th>\n",
       "      <td>HAAS-5</td>\n",
       "      <td>2840.0</td>\n",
       "      <td>3002.0</td>\n",
       "    </tr>\n",
       "    <tr>\n",
       "      <th>470</th>\n",
       "      <td>HAAS-5</td>\n",
       "      <td>3007.0</td>\n",
       "      <td>3169.0</td>\n",
       "    </tr>\n",
       "    <tr>\n",
       "      <th>477</th>\n",
       "      <td>HAAS-5</td>\n",
       "      <td>3174.0</td>\n",
       "      <td>3336.0</td>\n",
       "    </tr>\n",
       "    <tr>\n",
       "      <th>484</th>\n",
       "      <td>HAAS-5</td>\n",
       "      <td>3341.0</td>\n",
       "      <td>3503.0</td>\n",
       "    </tr>\n",
       "    <tr>\n",
       "      <th>491</th>\n",
       "      <td>HAAS-5</td>\n",
       "      <td>3508.0</td>\n",
       "      <td>3670.0</td>\n",
       "    </tr>\n",
       "    <tr>\n",
       "      <th>498</th>\n",
       "      <td>HAAS-5</td>\n",
       "      <td>3675.0</td>\n",
       "      <td>3837.0</td>\n",
       "    </tr>\n",
       "    <tr>\n",
       "      <th>505</th>\n",
       "      <td>HAAS-5</td>\n",
       "      <td>3842.0</td>\n",
       "      <td>4004.0</td>\n",
       "    </tr>\n",
       "    <tr>\n",
       "      <th>512</th>\n",
       "      <td>HAAS-5</td>\n",
       "      <td>4009.0</td>\n",
       "      <td>4171.0</td>\n",
       "    </tr>\n",
       "  </tbody>\n",
       "</table>\n",
       "</div>"
      ],
      "text/plain": [
       "\n",
       "    Machine  Start_time  End_time\n",
       "\u001B[1;36m344\u001B[0m  HAAS-\u001B[1;36m5\u001B[0m         \u001B[1;36m0.0\u001B[0m     \u001B[1;36m150.0\u001B[0m\n",
       "\u001B[1;36m358\u001B[0m  HAAS-\u001B[1;36m5\u001B[0m       \u001B[1;36m335.0\u001B[0m     \u001B[1;36m497.0\u001B[0m\n",
       "\u001B[1;36m365\u001B[0m  HAAS-\u001B[1;36m5\u001B[0m       \u001B[1;36m502.0\u001B[0m     \u001B[1;36m664.0\u001B[0m\n",
       "\u001B[1;36m372\u001B[0m  HAAS-\u001B[1;36m5\u001B[0m       \u001B[1;36m669.0\u001B[0m     \u001B[1;36m831.0\u001B[0m\n",
       "\u001B[1;36m379\u001B[0m  HAAS-\u001B[1;36m5\u001B[0m       \u001B[1;36m836.0\u001B[0m     \u001B[1;36m998.0\u001B[0m\n",
       "\u001B[1;36m386\u001B[0m  HAAS-\u001B[1;36m5\u001B[0m      \u001B[1;36m1003.0\u001B[0m    \u001B[1;36m1165.0\u001B[0m\n",
       "\u001B[1;36m393\u001B[0m  HAAS-\u001B[1;36m5\u001B[0m      \u001B[1;36m1170.0\u001B[0m    \u001B[1;36m1332.0\u001B[0m\n",
       "\u001B[1;36m400\u001B[0m  HAAS-\u001B[1;36m5\u001B[0m      \u001B[1;36m1337.0\u001B[0m    \u001B[1;36m1499.0\u001B[0m\n",
       "\u001B[1;36m407\u001B[0m  HAAS-\u001B[1;36m5\u001B[0m      \u001B[1;36m1504.0\u001B[0m    \u001B[1;36m1666.0\u001B[0m\n",
       "\u001B[1;36m414\u001B[0m  HAAS-\u001B[1;36m5\u001B[0m      \u001B[1;36m1671.0\u001B[0m    \u001B[1;36m1833.0\u001B[0m\n",
       "\u001B[1;36m421\u001B[0m  HAAS-\u001B[1;36m5\u001B[0m      \u001B[1;36m1838.0\u001B[0m    \u001B[1;36m2000.0\u001B[0m\n",
       "\u001B[1;36m428\u001B[0m  HAAS-\u001B[1;36m5\u001B[0m      \u001B[1;36m2005.0\u001B[0m    \u001B[1;36m2167.0\u001B[0m\n",
       "\u001B[1;36m435\u001B[0m  HAAS-\u001B[1;36m5\u001B[0m      \u001B[1;36m2172.0\u001B[0m    \u001B[1;36m2334.0\u001B[0m\n",
       "\u001B[1;36m442\u001B[0m  HAAS-\u001B[1;36m5\u001B[0m      \u001B[1;36m2339.0\u001B[0m    \u001B[1;36m2501.0\u001B[0m\n",
       "\u001B[1;36m449\u001B[0m  HAAS-\u001B[1;36m5\u001B[0m      \u001B[1;36m2506.0\u001B[0m    \u001B[1;36m2668.0\u001B[0m\n",
       "\u001B[1;36m456\u001B[0m  HAAS-\u001B[1;36m5\u001B[0m      \u001B[1;36m2673.0\u001B[0m    \u001B[1;36m2835.0\u001B[0m\n",
       "\u001B[1;36m463\u001B[0m  HAAS-\u001B[1;36m5\u001B[0m      \u001B[1;36m2840.0\u001B[0m    \u001B[1;36m3002.0\u001B[0m\n",
       "\u001B[1;36m470\u001B[0m  HAAS-\u001B[1;36m5\u001B[0m      \u001B[1;36m3007.0\u001B[0m    \u001B[1;36m3169.0\u001B[0m\n",
       "\u001B[1;36m477\u001B[0m  HAAS-\u001B[1;36m5\u001B[0m      \u001B[1;36m3174.0\u001B[0m    \u001B[1;36m3336.0\u001B[0m\n",
       "\u001B[1;36m484\u001B[0m  HAAS-\u001B[1;36m5\u001B[0m      \u001B[1;36m3341.0\u001B[0m    \u001B[1;36m3503.0\u001B[0m\n",
       "\u001B[1;36m491\u001B[0m  HAAS-\u001B[1;36m5\u001B[0m      \u001B[1;36m3508.0\u001B[0m    \u001B[1;36m3670.0\u001B[0m\n",
       "\u001B[1;36m498\u001B[0m  HAAS-\u001B[1;36m5\u001B[0m      \u001B[1;36m3675.0\u001B[0m    \u001B[1;36m3837.0\u001B[0m\n",
       "\u001B[1;36m505\u001B[0m  HAAS-\u001B[1;36m5\u001B[0m      \u001B[1;36m3842.0\u001B[0m    \u001B[1;36m4004.0\u001B[0m\n",
       "\u001B[1;36m512\u001B[0m  HAAS-\u001B[1;36m5\u001B[0m      \u001B[1;36m4009.0\u001B[0m    \u001B[1;36m4171.0\u001B[0m"
      ]
     },
     "execution_count": 9,
     "metadata": {},
     "output_type": "execute_result"
    }
   ],
   "source": [
    "output[(output['Machine'] == 'HAAS-5')][['Machine', 'Start_time', 'End_time']].sort_values(['Start_time'])"
   ]
  },
  {
   "cell_type": "code",
   "execution_count": 14,
   "id": "5165f5b2-19dd-46fc-b737-4437db0454a9",
   "metadata": {},
   "outputs": [
    {
     "name": "stdout",
     "output_type": "stream",
     "text": [
      "  Machine  Changeover_Start  Changeover_End\n",
      "0  HAAS-5             155.0           335.0\n"
     ]
    }
   ],
   "source": [
    "import pandas as pd\n",
    "\n",
    "def identify_changeovers(df, machines, threshold=180):\n",
    "    # Initialize a list to store all changeover periods\n",
    "    all_changeovers = []\n",
    "\n",
    "    # Loop through each machine\n",
    "    for machine in machines:\n",
    "        # Filter and sort the data for the current machine\n",
    "        machine_tasks = df[df['Machine'] == machine][['Machine', 'Start_time', 'End_time']].sort_values(['Start_time']).reset_index(drop=True)\n",
    "        \n",
    "        # Iterate through the tasks to find gaps\n",
    "        for i in range(len(machine_tasks) - 1):\n",
    "            current_end_time = machine_tasks.at[i, 'End_time']\n",
    "            next_start_time = machine_tasks.at[i + 1, 'Start_time']\n",
    "            \n",
    "            # Calculate the gap\n",
    "            gap = next_start_time - current_end_time\n",
    "            \n",
    "            # If the gap is greater than the threshold, identify the changeover period\n",
    "            if gap > threshold:\n",
    "                changeover_end_time = next_start_time\n",
    "                changeover_start_time = next_start_time - threshold\n",
    "                all_changeovers.append({\n",
    "                    'Machine': machine,\n",
    "                    'Changeover_Start': changeover_start_time,\n",
    "                    'Changeover_End': changeover_end_time\n",
    "                })\n",
    "    \n",
    "    # Create a DataFrame from the changeovers list\n",
    "    changeovers_df = pd.DataFrame(all_changeovers)\n",
    "    \n",
    "    return changeovers_df\n",
    "\n",
    "# Identify machines\n",
    "machines = ['HAAS-1', 'HAAS-2', 'HAAS-3', 'HAAS-4', 'HAAS-5', 'HAAS-6']\n",
    "changeovers_df = identify_changeovers(output, machines)\n",
    "print(changeovers_df)\n"
   ]
  },
  {
   "cell_type": "code",
   "execution_count": null,
   "id": "24ba0099-5591-4949-8ded-b309cea5845d",
   "metadata": {},
   "outputs": [],
   "source": []
  }
 ],
 "metadata": {
  "kernelspec": {
   "display_name": "Kedro (eit_epsilon)",
   "language": "python",
   "name": "kedro_eit_epsilon"
  },
  "language_info": {
   "codemirror_mode": {
    "name": "ipython",
    "version": 3
   },
   "file_extension": ".py",
   "mimetype": "text/x-python",
   "name": "python",
   "nbconvert_exporter": "python",
   "pygments_lexer": "ipython3",
   "version": "3.11.9"
  }
 },
 "nbformat": 4,
 "nbformat_minor": 5
}
