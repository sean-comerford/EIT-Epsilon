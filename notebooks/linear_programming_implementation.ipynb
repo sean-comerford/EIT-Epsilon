{
 "cells": [
  {
   "cell_type": "code",
   "id": "8cb20575-86fc-450d-9083-d001129c8e38",
   "metadata": {},
   "source": [
    "# Imports\n",
    "import math"
   ],
   "outputs": [],
   "execution_count": null
  },
  {
   "cell_type": "code",
   "id": "51bdb770-e1b6-4ec0-b44d-66750979ac91",
   "metadata": {},
   "source": [
    "input_repr_dict = catalog.load('input_repr_dict')"
   ],
   "outputs": [],
   "execution_count": null
  },
  {
   "cell_type": "markdown",
   "id": "d051f24b-3e76-413f-9adc-547b3ff9eb7c",
   "metadata": {},
   "source": [
    "### Unpack all the dictionary keys"
   ]
  },
  {
   "cell_type": "code",
   "id": "0d75b1d8-0efa-4098-84b3-ce88f25affd7",
   "metadata": {},
   "source": [
    "J = input_repr_dict[\"J\"]\n",
    "M = input_repr_dict[\"M\"]\n",
    "compat = input_repr_dict[\"compat\"]\n",
    "dur = input_repr_dict[\"dur\"]\n",
    "due = input_repr_dict[\"due\"]\n",
    "part_id = input_repr_dict[\"part_id\"]"
   ],
   "outputs": [],
   "execution_count": null
  },
  {
   "cell_type": "code",
   "id": "270dcee7-0f5a-4d75-b0d4-e2a34ec1bc4f",
   "metadata": {},
   "source": [
    "J"
   ],
   "outputs": [],
   "execution_count": null
  },
  {
   "cell_type": "code",
   "id": "e681d517-3a69-4618-9c10-5940a2ca514f",
   "metadata": {},
   "source": [
    "J_upd = [[i - 1 for i in sub_list] for sub_list in J]"
   ],
   "outputs": [],
   "execution_count": null
  },
  {
   "cell_type": "code",
   "id": "72b73e25-be44-439f-8a6b-776e334b6bb7",
   "metadata": {},
   "source": [
    "J_upd"
   ],
   "outputs": [],
   "execution_count": null
  },
  {
   "cell_type": "markdown",
   "id": "d5805eb7-070b-4b38-9069-342ebacf850c",
   "metadata": {},
   "source": [
    "Tasks of each job"
   ]
  },
  {
   "cell_type": "code",
   "id": "a3358708-7254-4c9e-be09-58912155320a",
   "metadata": {},
   "source": [
    "J[0]"
   ],
   "outputs": [],
   "execution_count": null
  },
  {
   "cell_type": "markdown",
   "id": "39397066-b3f3-4173-947a-f762317da230",
   "metadata": {},
   "source": [
    "List of machines M"
   ]
  },
  {
   "cell_type": "code",
   "id": "9e738d5b-489e-4dde-ba12-8228b5b0bc80",
   "metadata": {},
   "source": [
    "M"
   ],
   "outputs": [],
   "execution_count": null
  },
  {
   "cell_type": "markdown",
   "id": "76b57f99-e126-41eb-a898-2c99e191f665",
   "metadata": {},
   "source": [
    "Compatability matrix for a taks of a job"
   ]
  },
  {
   "cell_type": "code",
   "id": "4dfda829-dfb9-4cfe-a7de-1ab2dabdbd16",
   "metadata": {},
   "source": [
    "compat"
   ],
   "outputs": [],
   "execution_count": null
  },
  {
   "cell_type": "markdown",
   "id": "b38a82ee-3f3c-4d32-8907-ba23a049a28f",
   "metadata": {},
   "source": [
    "Duration of a task of a job"
   ]
  },
  {
   "cell_type": "code",
   "id": "411aa529-440e-4d86-bd89-993cdf85c4a5",
   "metadata": {},
   "source": [
    "dur[0][0]"
   ],
   "outputs": [],
   "execution_count": null
  },
  {
   "cell_type": "markdown",
   "id": "b60730c8-b52b-42a7-a682-cfd9f4fae356",
   "metadata": {},
   "source": [
    "Due date (max completion time) for a job"
   ]
  },
  {
   "metadata": {},
   "cell_type": "code",
   "source": [
    "# Divide by 15 to indicate the number of 15 minute blocks that are required for the task\n",
    "due = [math.ceil(due_date/15) for due_date in due]"
   ],
   "id": "20a950e1ebfac49b",
   "outputs": [],
   "execution_count": null
  },
  {
   "metadata": {},
   "cell_type": "code",
   "source": "due[0]",
   "id": "639eb7d2c4b33ba3",
   "outputs": [],
   "execution_count": null
  },
  {
   "cell_type": "markdown",
   "id": "5b81ba79-97f1-420f-a839-b66e02eb8bf1",
   "metadata": {},
   "source": [
    "Task to machines mapping:"
   ]
  },
  {
   "cell_type": "code",
   "id": "5dad5ba4-ed76-41be-8432-8ff96fb4ce66",
   "metadata": {},
   "source": [
    "task_to_machines = {\n",
    "  0: [1, 2, 3, 4, 5, 6],  # HAAS\n",
    "  1: [7, 8, 9, 10],  # Inspection\n",
    "  2: [11],  # First Wash\n",
    "  3: [12, 13, 14],  # Manual Prep\n",
    "  4: [7, 8, 9, 10],  # Inspection (again)\n",
    "  5: [15],  # Final Wash\n",
    "  6: [16, 17]  # Final inspection\n",
    "}"
   ],
   "outputs": [],
   "execution_count": null
  },
  {
   "cell_type": "code",
   "id": "eded17cb-3da8-4470-89eb-951812a23d37",
   "metadata": {},
   "source": [
    "dur"
   ],
   "outputs": [],
   "execution_count": null
  },
  {
   "cell_type": "code",
   "id": "ee857100-2107-4dad-9d74-59462dd7fb45",
   "metadata": {},
   "source": [
    "# Divided by fifteen to express the number of 15 minute blocks are required for the task\n",
    "dur_rounded_up = [[math.ceil(x/15) for x in sub_list] for sub_list in dur]"
   ],
   "outputs": [],
   "execution_count": null
  },
  {
   "metadata": {},
   "cell_type": "code",
   "source": "dur_rounded_up",
   "id": "ca22d4f4136447ec",
   "outputs": [],
   "execution_count": null
  },
  {
   "metadata": {},
   "cell_type": "code",
   "source": [
    "# Iterate over the sublists to round up the duration\n",
    "# If there are only five tasks in the job, pad them with 0s\n",
    "for sublist in dur_rounded_up:\n",
    "    # If the sublist has a length of 5\n",
    "    if len(sublist) == 5:\n",
    "        # Insert two zeros before the last two entries\n",
    "        sublist.insert(-2, 0)\n",
    "        sublist.insert(-2, 0)"
   ],
   "id": "7a4fdc1891111e73",
   "outputs": [],
   "execution_count": null
  },
  {
   "metadata": {},
   "cell_type": "code",
   "source": "dur_rounded_up",
   "id": "7f716bd825c743c7",
   "outputs": [],
   "execution_count": null
  },
  {
   "cell_type": "code",
   "id": "34ec5be3-b975-40a7-b69d-ef21c7a707c2",
   "metadata": {},
   "source": [
    "task_to_machine_list = list(task_to_machines.values())"
   ],
   "outputs": [],
   "execution_count": null
  },
  {
   "cell_type": "markdown",
   "id": "4770bf2a-c355-474e-bb3a-b7add987f10e",
   "metadata": {},
   "source": [
    "### Define the linear program"
   ]
  },
  {
   "metadata": {},
   "cell_type": "code",
   "source": [
    "# Example parameters\n",
    "T = range(1, 337)  # Time horizon: 1 to 336\n",
    "J = ['batch1', 'batch2']  # Example batch set\n",
    "K = { 'batch1': [1, 2, 3], 'batch2': [1, 3, 2] }  # Example task sequences\n",
    "M = { 1: ['machine1'], 2: ['machine2'], 3: ['machine3'] }  # Example machine sets\n",
    "d = { ('batch1', 1): 2, ('batch1', 2): 3, ('batch1', 3): 2,\n",
    "      ('batch2', 1): 4, ('batch2', 3): 1, ('batch2', 2): 3 }  # Example durations\n",
    "f = { 'batch1': 100, 'batch2': 150 }  # Example promised delivery times"
   ],
   "id": "3a6b6f6375b0d54d",
   "outputs": [],
   "execution_count": null
  },
  {
   "metadata": {},
   "cell_type": "code",
   "source": [
    "import pulp\n",
    "\n",
    "def linear_program(T, J, K, M, d, f):\n",
    "    # Variables\n",
    "    y = pulp.LpVariable.dicts(\"y\", ((j, k, m, t) for j in J for k in K[j] for m in M[k] for t in T), 0, 1, pulp.LpBinary)\n",
    "    x = pulp.LpVariable.dicts(\"x\", ((j, k, m, t) for j in J for k in K[j] for m in M[k] for t in T), 0, 1, pulp.LpBinary)\n",
    "\n",
    "    # Problem definition\n",
    "    prob = pulp.LpProblem(\"SchedulingProblem\", pulp.LpMaximize)\n",
    "    \n",
    "    # -- Objective -- \n",
    "    # Objective function: Minimize the starting times of tasks\n",
    "    prob += pulp.lpSum(f[j] - (t * x[j, K[j][-1], m, t]) for j in J for m in M[K[j][-1]] for t in T)\n",
    "                        \n",
    "    # -- Constraints -- \n",
    "    # Each task in each batch starts once and only on one machine\n",
    "    for j in J:\n",
    "        for k in K[j]:\n",
    "            prob += pulp.lpSum(y[j, k, m, t] for m in M[k] for t in T) == 1\n",
    "     \n",
    "    # A task only occupies a machine for the duration of processing time if the task is set to start on said machine\n",
    "    for j in J:\n",
    "        for k in K[j]:\n",
    "            for m in M[k]:\n",
    "                for t in T:\n",
    "                    if t + d[j, k] - 1 <= max(T):\n",
    "                        # Ensuring x values correspond correctly with the y start times\n",
    "                        for t_prime in range(t, t + d[j, k]):\n",
    "                            prob += x[j, k, m, t_prime] >= y[j, k, m, t_prime]\n",
    "\n",
    "    # Total time the task occupies the machines equals the processing duration\n",
    "    for j in J:\n",
    "        for k in K[j]:\n",
    "            for m in M[k]:\n",
    "                prob += pulp.lpSum(x[j, k, m, t] for t in T) == d[j, k]\n",
    "                \n",
    "    # Only one machine can be used at a time\n",
    "    for t in T:\n",
    "        for k, m in M.items():\n",
    "            mach = m[0]\n",
    "            prob += pulp.lpSum(x[j, k, mach, t] for j in J) <= 1\n",
    "\n",
    "    # Tasks must be done in the order specified by the batch\n",
    "    for j in J:\n",
    "        for idx in range(len(K[j]) - 1):\n",
    "            k1 = K[j][idx]\n",
    "            k2 = K[j][idx + 1]\n",
    "            for m1 in M[k1]:\n",
    "                for m2 in M[k2]:\n",
    "                    prob += (pulp.lpSum((t + d[j, k1]) * y[j, k1, m1, t] for t in T) <= \n",
    "                             pulp.lpSum(t * y[j, k2, m2, t] for t in T))\n",
    "                    \n",
    "    # Tasks cannot be stopped midway, but have to be completed once they start\n",
    "    for j in J:\n",
    "        for k in K[j]:\n",
    "            for m in M[k]:\n",
    "                for t in T:\n",
    "                    if t + d[j, k] - 1 <= max(T):\n",
    "                        for t_prime in range(t, t + d[j, k]):\n",
    "                            prob += x[j, k, m, t_prime] <= pulp.lpSum(y[j, k, m, t_prime_start] for t_prime_start in range(max(1, t_prime - d[j, k] + 1), t_prime + 1))\n",
    "        \n",
    "    # Solve the problem\n",
    "    prob.solve()\n",
    "    \n",
    "    print(\"Status:\", pulp.LpStatus[prob.status])\n",
    "    \n",
    "    # Print the optimal value of the objective function\n",
    "    print(\"Optimal Value:\", pulp.value(prob.objective))\n",
    "\n",
    "    # Print the results\n",
    "    for v in prob.variables():\n",
    "        if v.varValue > 0.01:  #  and v.name.startswith('x')\n",
    "            print(f\"{v.name} = {v.varValue}\")\n",
    "\n",
    "            \n",
    "    return x, y\n",
    "\n",
    "# Example parameters\n",
    "T = range(1, 337)  # Time horizon: 1 to 336\n",
    "J = ['batch1', 'batch2']  # Example batch set\n",
    "K = { 'batch1': [1, 2, 3], 'batch2': [1, 2, 3] }  # Example task sequences\n",
    "M = { 1: ['machine1'], 2: ['machine2'], 3: ['machine3'] }  # Example machine sets\n",
    "d = { ('batch1', 1): 2, ('batch1', 2): 3, ('batch1', 3): 4,\n",
    "      ('batch2', 1): 2, ('batch2', 2): 3, ('batch2', 3): 4 }  # Example durations\n",
    "f = { 'batch1': 100, 'batch2': 150 }  # Example promised delivery times\n",
    "\n",
    "# Call the function\n",
    "x, y = linear_program(T, J, K, M, d, f)\n"
   ],
   "id": "21287cfe0e7640b8",
   "outputs": [],
   "execution_count": null
  },
  {
   "metadata": {},
   "cell_type": "code",
   "source": "",
   "id": "762427ca5cb4a674",
   "outputs": [],
   "execution_count": null
  }
 ],
 "metadata": {
  "kernelspec": {
   "display_name": "Kedro (eit_epsilon)",
   "language": "python",
   "name": "kedro_eit_epsilon"
  },
  "language_info": {
   "codemirror_mode": {
    "name": "ipython",
    "version": 3
   },
   "file_extension": ".py",
   "mimetype": "text/x-python",
   "name": "python",
   "nbconvert_exporter": "python",
   "pygments_lexer": "ipython3",
   "version": "3.11.9"
  }
 },
 "nbformat": 4,
 "nbformat_minor": 5
}
